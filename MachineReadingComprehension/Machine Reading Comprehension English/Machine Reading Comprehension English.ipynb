{
 "cells": [
  {
   "cell_type": "markdown",
   "metadata": {
    "colab_type": "text",
    "id": "Z4M4bah-dQMS"
   },
   "source": [
    "## Machine Reading Comprehension"
   ]
  },
  {
   "cell_type": "markdown",
   "metadata": {
    "colab_type": "text",
    "id": "_IlY1GnV83T3"
   },
   "source": [
    "### SQuAD 2.0 Data Sample\n",
    "\n",
    "```json\n",
    "{\"version\": \"v2.0\", \"data\": \n",
    "    [{\"title\": \"Beyonc\\u00e9\", \"paragraphs\": \n",
    "        [{\"qas\": [{\"question\": \"When did Beyonce start becoming popular?\", \"id\": \"56be85543aeaaa14008c9063\", \"answers\": [{\"text\": \"in the late 1990s\", \"answer_start\": 269}], \"is_impossible\": false},\n",
    "               {\"question\": \"What areas did Beyonce compete in when she was growing up?\", \"id\": \"56be85543aeaaa14008c9065\", \"answers\": [{\"text\": \"singing and dancing\", \"answer_start\": 207}], \"is_impossible\": false},\n",
    "               {\"question\": \"When did Beyonce leave Destiny's Child and become a solo singer?\", \"id\": \"56be85543aeaaa14008c9066\", \"answers\": [{\"text\": \"2003\", \"answer_start\": 526}], \"is_impossible\": false},\n",
    "               {\"question\": \"In what city and state did Beyonce  grow up? \", \"id\": \"56bf6b0f3aeaaa14008c9601\", \"answers\": [{\"text\": \"Houston, Texas\", \"answer_start\": 166}], \"is_impossible\": false},\n",
    "               {\"question\": \"In which decade did Beyonce become famous?\", \"id\": \"56bf6b0f3aeaaa14008c9602\", \"answers\": [{\"text\": \"late 1990s\", \"answer_start\": 276}], \"is_impossible\": false},\n",
    "               {\"question\": \"In what R&B group was she the lead singer?\", \"id\": \"56bf6b0f3aeaaa14008c9603\", \"answers\": [{\"text\": \"Destiny's Child\", \"answer_start\": 320}], \"is_impossible\": false},\n",
    "               {\"question\": \"What album made her a worldwide known artist?\", \"id\": \"56bf6b0f3aeaaa14008c9604\", \"answers\": [{\"text\": \"Dangerously in Love\", \"answer_start\": 505}], \"is_impossible\": false},\n",
    "               {\"question\": \"Who managed the Destiny's Child group?\", \"id\": \"56bf6b0f3aeaaa14008c9605\", \"answers\": [{\"text\": \"Mathew Knowles\", \"answer_start\": 360}], \"is_impossible\": false},\n",
    "               {\"question\": \"When did Beyonc\\u00e9 rise to fame?\", \"id\": \"56d43c5f2ccc5a1400d830a9\", \"answers\": [{\"text\": \"late 1990s\", \"answer_start\": 276}], \"is_impossible\": false},\n",
    "               {\"question\": \"What role did Beyonc\\u00e9 have in Destiny's Child?\", \"id\": \"56d43c5f2ccc5a1400d830aa\", \"answers\": [{\"text\": \"lead singer\", \"answer_start\": 290}], \"is_impossible\": false},\n",
    "               {\"question\": \"What was the first album Beyonc\\u00e9 released as a solo artist?\", \"id\": \"56d43c5f2ccc5a1400d830ab\", \"answers\": [{\"text\": \"Dangerously in Love\", \"answer_start\": 505}], \"is_impossible\": false},\n",
    "               {\"question\": \"When did Beyonc\\u00e9 release Dangerously in Love?\", \"id\": \"56d43c5f2ccc5a1400d830ac\", \"answers\": [{\"text\": \"2003\", \"answer_start\": 526}], \"is_impossible\": false},\n",
    "               {\"question\": \"How many Grammy awards did Beyonc\\u00e9 win for her first solo album?\", \"id\": \"56d43c5f2ccc5a1400d830ad\", \"answers\": [{\"text\": \"five\", \"answer_start\": 590}], \"is_impossible\": false},\n",
    "               {\"question\": \"What was Beyonc\\u00e9's role in Destiny's Child?\", \"id\": \"56d43ce42ccc5a1400d830b4\", \"answers\": [{\"text\": \"lead singer\", \"answer_start\": 290}], \"is_impossible\": false},\n",
    "               {\"question\": \"What was the name of Beyonc\\u00e9's first solo album?\", \"id\": \"56d43ce42ccc5a1400d830b5\", \"answers\": [{\"text\": \"Dangerously in Love\", \"answer_start\": 505}], \"is_impossible\": false}],\n",
    "               \"context\": \"Beyonc\\u00e9 Giselle Knowles-Carter (/bi\\u02d0\\u02c8j\\u0252nse\\u026a/ bee-YON-say) (born September 4, 1981) is an American singer, songwriter, record producer and actress. Born and raised in Houston, Texas, she performed in various singing and dancing competitions as a child, and rose to fame in the late 1990s as lead singer of R&B girl-group Destiny's Child. Managed by her father, Mathew Knowles, the group became one of the world's best-selling girl groups of all time. Their hiatus saw the release of Beyonc\\u00e9's debut album, Dangerously in Love (2003), which established her as a solo artist worldwide, earned five Grammy Awards and featured the Billboard Hot 100 number-one singles \\\"Crazy in Love\\\" and \\\"Baby Boy\\\".\"}```\n"
   ]
  },
  {
   "cell_type": "code",
   "execution_count": 1,
   "metadata": {
    "colab": {
     "base_uri": "https://localhost:8080/",
     "height": 276
    },
    "colab_type": "code",
    "executionInfo": {
     "elapsed": 4396,
     "status": "ok",
     "timestamp": 1599334683634,
     "user": {
      "displayName": "Nelson LIN",
      "photoUrl": "https://lh3.googleusercontent.com/a-/AOh14GgrEZmWMjk_h9SZRyH_-oJW-4yrQ19ywOKCx8EA=s64",
      "userId": "03694478629413699942"
     },
     "user_tz": -480
    },
    "id": "sNneb8abdbJ8",
    "outputId": "d9a26aa3-83d1-4a30-d25c-00ec84ab2958"
   },
   "outputs": [
    {
     "name": "stdout",
     "output_type": "stream",
     "text": [
      "Collecting bert4keras==0.7.7\n",
      "  Downloading https://files.pythonhosted.org/packages/36/37/dfb321f3b50f97512b506fe00ba782bfdaded2cbe97241245a0f4afa54b0/bert4keras-0.7.7.tar.gz\n",
      "Requirement already satisfied: keras in /usr/local/lib/python3.6/dist-packages (from bert4keras==0.7.7) (2.4.3)\n",
      "Requirement already satisfied: scipy>=0.14 in /usr/local/lib/python3.6/dist-packages (from keras->bert4keras==0.7.7) (1.4.1)\n",
      "Requirement already satisfied: h5py in /usr/local/lib/python3.6/dist-packages (from keras->bert4keras==0.7.7) (2.10.0)\n",
      "Requirement already satisfied: numpy>=1.9.1 in /usr/local/lib/python3.6/dist-packages (from keras->bert4keras==0.7.7) (1.18.5)\n",
      "Requirement already satisfied: pyyaml in /usr/local/lib/python3.6/dist-packages (from keras->bert4keras==0.7.7) (3.13)\n",
      "Requirement already satisfied: six in /usr/local/lib/python3.6/dist-packages (from h5py->keras->bert4keras==0.7.7) (1.15.0)\n",
      "Building wheels for collected packages: bert4keras\n",
      "  Building wheel for bert4keras (setup.py) ... \u001b[?25l\u001b[?25hdone\n",
      "  Created wheel for bert4keras: filename=bert4keras-0.7.7-cp36-none-any.whl size=36804 sha256=22c139dc942fea1d7ba677102f3d2ba1ed454f2740ced2594187bbf8e58ac69a\n",
      "  Stored in directory: /root/.cache/pip/wheels/73/5f/2b/ee7932b73172503fdb429421c0b433f47a737c0d1c2a85fdd2\n",
      "Successfully built bert4keras\n",
      "Installing collected packages: bert4keras\n",
      "Successfully installed bert4keras-0.7.7\n"
     ]
    }
   ],
   "source": [
    "!pip install bert4keras==0.7.7"
   ]
  },
  {
   "cell_type": "code",
   "execution_count": 2,
   "metadata": {
    "colab": {},
    "colab_type": "code",
    "executionInfo": {
     "elapsed": 2012,
     "status": "ok",
     "timestamp": 1599334687256,
     "user": {
      "displayName": "Nelson LIN",
      "photoUrl": "https://lh3.googleusercontent.com/a-/AOh14GgrEZmWMjk_h9SZRyH_-oJW-4yrQ19ywOKCx8EA=s64",
      "userId": "03694478629413699942"
     },
     "user_tz": -480
    },
    "id": "ED6o5J0ZdQMY"
   },
   "outputs": [],
   "source": [
    "import json, os\n",
    "import numpy as np\n",
    "from bert4keras.backend import keras, K\n",
    "from bert4keras.models import build_transformer_model\n",
    "from bert4keras.tokenizers import Tokenizer\n",
    "from bert4keras.optimizers import Adam\n",
    "from bert4keras.snippets import sequence_padding, DataGenerator\n",
    "from bert4keras.snippets import open\n",
    "from keras.layers import Layer, Dense, Permute\n",
    "from keras.models import Model\n",
    "from tqdm import tqdm\n",
    "\n",
    "# 基本信息\n",
    "maxlen = 512\n",
    "epochs = 20\n",
    "batch_size = 4\n",
    "learing_rate = 2e-5"
   ]
  },
  {
   "cell_type": "markdown",
   "metadata": {
    "colab_type": "text",
    "id": "dM2wwig0dQMe"
   },
   "source": [
    "# 1) files path config"
   ]
  },
  {
   "cell_type": "code",
   "execution_count": 3,
   "metadata": {
    "colab": {
     "base_uri": "https://localhost:8080/",
     "height": 124
    },
    "colab_type": "code",
    "executionInfo": {
     "elapsed": 20836,
     "status": "ok",
     "timestamp": 1599334711190,
     "user": {
      "displayName": "Nelson LIN",
      "photoUrl": "https://lh3.googleusercontent.com/a-/AOh14GgrEZmWMjk_h9SZRyH_-oJW-4yrQ19ywOKCx8EA=s64",
      "userId": "03694478629413699942"
     },
     "user_tz": -480
    },
    "id": "Pj4NuwezdjQ4",
    "outputId": "3dfd19ff-ef76-4d52-d144-1d40c7bdddbb"
   },
   "outputs": [
    {
     "name": "stdout",
     "output_type": "stream",
     "text": [
      "Go to this URL in a browser: https://accounts.google.com/o/oauth2/auth?client_id=947318989803-6bn6qk8qdgf4n4g3pfee6491hc0brc4i.apps.googleusercontent.com&redirect_uri=urn%3aietf%3awg%3aoauth%3a2.0%3aoob&scope=email%20https%3a%2f%2fwww.googleapis.com%2fauth%2fdocs.test%20https%3a%2f%2fwww.googleapis.com%2fauth%2fdrive%20https%3a%2f%2fwww.googleapis.com%2fauth%2fdrive.photos.readonly%20https%3a%2f%2fwww.googleapis.com%2fauth%2fpeopleapi.readonly&response_type=code\n",
      "\n",
      "Enter your authorization code:\n",
      "··········\n",
      "Mounted at /content/drive\n"
     ]
    }
   ],
   "source": [
    "from google.colab import drive\n",
    "drive.mount('/content/drive')"
   ]
  },
  {
   "cell_type": "code",
   "execution_count": 4,
   "metadata": {
    "colab": {},
    "colab_type": "code",
    "executionInfo": {
     "elapsed": 532,
     "status": "ok",
     "timestamp": 1599334712337,
     "user": {
      "displayName": "Nelson LIN",
      "photoUrl": "https://lh3.googleusercontent.com/a-/AOh14GgrEZmWMjk_h9SZRyH_-oJW-4yrQ19ywOKCx8EA=s64",
      "userId": "03694478629413699942"
     },
     "user_tz": -480
    },
    "id": "zF6eMjYJdsES"
   },
   "outputs": [],
   "source": [
    "data_dir=\"/content/drive/My Drive/Colab Notebooks/Machine Reading Comprehension English/data\"\n",
    "output_dir='/content/drive/My Drive/Colab Notebooks/Machine Reading Comprehension English/data/output/'"
   ]
  },
  {
   "cell_type": "markdown",
   "metadata": {},
   "source": [
    "##### Bert pre-train-models：https://github.com/google-research/bert#pre-trained-models"
   ]
  },
  {
   "cell_type": "code",
   "execution_count": 5,
   "metadata": {
    "colab": {},
    "colab_type": "code",
    "executionInfo": {
     "elapsed": 600,
     "status": "ok",
     "timestamp": 1599334712717,
     "user": {
      "displayName": "Nelson LIN",
      "photoUrl": "https://lh3.googleusercontent.com/a-/AOh14GgrEZmWMjk_h9SZRyH_-oJW-4yrQ19ywOKCx8EA=s64",
      "userId": "03694478629413699942"
     },
     "user_tz": -480
    },
    "id": "p-THSFRzd6JG"
   },
   "outputs": [],
   "source": [
    "bert_dir = '/content/drive/My Drive/Colab Notebooks/Machine Reading Comprehension English/model/uncased_L-12_H-768_A-12'\n",
    "config_path = f'{bert_dir}/bert_config.json'\n",
    "checkpoint_path = f'{bert_dir}/bert_model.ckpt'\n",
    "dict_path = f'{bert_dir}/vocab.txt'"
   ]
  },
  {
   "cell_type": "code",
   "execution_count": 6,
   "metadata": {
    "colab": {
     "base_uri": "https://localhost:8080/",
     "height": 104
    },
    "colab_type": "code",
    "executionInfo": {
     "elapsed": 1372,
     "status": "ok",
     "timestamp": 1599334716746,
     "user": {
      "displayName": "Nelson LIN",
      "photoUrl": "https://lh3.googleusercontent.com/a-/AOh14GgrEZmWMjk_h9SZRyH_-oJW-4yrQ19ywOKCx8EA=s64",
      "userId": "03694478629413699942"
     },
     "user_tz": -480
    },
    "id": "03iMdJsQdQMl",
    "outputId": "87911590-99ff-4c5a-c2ca-587f061f4d9e"
   },
   "outputs": [
    {
     "data": {
      "text/plain": [
       "['vocab.txt',\n",
       " 'bert_config.json',\n",
       " 'bert_model.ckpt.index',\n",
       " 'bert_model.ckpt.meta',\n",
       " 'bert_model.ckpt.data-00000-of-00001']"
      ]
     },
     "execution_count": 6,
     "metadata": {
      "tags": []
     },
     "output_type": "execute_result"
    }
   ],
   "source": [
    "os.listdir(bert_dir)"
   ]
  },
  {
   "cell_type": "code",
   "execution_count": 7,
   "metadata": {
    "colab": {
     "base_uri": "https://localhost:8080/",
     "height": 121
    },
    "colab_type": "code",
    "executionInfo": {
     "elapsed": 756,
     "status": "ok",
     "timestamp": 1599334718510,
     "user": {
      "displayName": "Nelson LIN",
      "photoUrl": "https://lh3.googleusercontent.com/a-/AOh14GgrEZmWMjk_h9SZRyH_-oJW-4yrQ19ywOKCx8EA=s64",
      "userId": "03694478629413699942"
     },
     "user_tz": -480
    },
    "id": "YKJGP00TdQMr",
    "outputId": "80560ef1-d763-46ce-e35f-0d4f5a0e1e69"
   },
   "outputs": [
    {
     "data": {
      "text/plain": [
       "['train-v2.0.json',\n",
       " 'dev-v2.0.json',\n",
       " '__init__.py',\n",
       " '__pycache__',\n",
       " 'output',\n",
       " 'evaluate.py']"
      ]
     },
     "execution_count": 7,
     "metadata": {
      "tags": []
     },
     "output_type": "execute_result"
    }
   ],
   "source": [
    "os.listdir(data_dir)"
   ]
  },
  {
   "cell_type": "markdown",
   "metadata": {
    "colab_type": "text",
    "id": "DWUGIH8T83UV"
   },
   "source": [
    "# 2) Data Loader: Read Data"
   ]
  },
  {
   "cell_type": "code",
   "execution_count": 8,
   "metadata": {
    "colab": {},
    "colab_type": "code",
    "executionInfo": {
     "elapsed": 684,
     "status": "ok",
     "timestamp": 1599334726951,
     "user": {
      "displayName": "Nelson LIN",
      "photoUrl": "https://lh3.googleusercontent.com/a-/AOh14GgrEZmWMjk_h9SZRyH_-oJW-4yrQ19ywOKCx8EA=s64",
      "userId": "03694478629413699942"
     },
     "user_tz": -480
    },
    "id": "gmLjo9t_dQM6"
   },
   "outputs": [],
   "source": [
    "def load_data(file_name):\n",
    "    \n",
    "    context_id_qas_list = []\n",
    "    \n",
    "    with open(file_name) as f:\n",
    "        json_f = json.load(f)\n",
    "    \n",
    "    data = json_f['data']\n",
    "    \n",
    "    for paragraphs in data:\n",
    "        context_qas_list = paragraphs['paragraphs']\n",
    "        for context_qas in context_qas_list:\n",
    "            \n",
    "            context = context_qas['context']\n",
    "            qas_list = context_qas['qas']\n",
    "            \n",
    "            for qas in qas_list:\n",
    "                is_impossible = qas['is_impossible']\n",
    "                if not is_impossible:\n",
    "                    id_ = qas['id']\n",
    "                    question = qas['question']\n",
    "                    answer_dict = qas['answers']\n",
    "                    answer_text = [item['text'] for item in answer_dict]\n",
    "#                     answer_start = answer_dict['answer_start']\n",
    "                    context_id_qas_list.append([id_,context,question,answer_text])\n",
    "                                            \n",
    "    return context_id_qas_list"
   ]
  },
  {
   "cell_type": "code",
   "execution_count": 9,
   "metadata": {
    "colab": {},
    "colab_type": "code",
    "executionInfo": {
     "elapsed": 2223,
     "status": "ok",
     "timestamp": 1599334729874,
     "user": {
      "displayName": "Nelson LIN",
      "photoUrl": "https://lh3.googleusercontent.com/a-/AOh14GgrEZmWMjk_h9SZRyH_-oJW-4yrQ19ywOKCx8EA=s64",
      "userId": "03694478629413699942"
     },
     "user_tz": -480
    },
    "id": "lDpBReSTdQM-"
   },
   "outputs": [],
   "source": [
    "train_data = load_data(data_dir+'/train-v2.0.json')"
   ]
  },
  {
   "cell_type": "code",
   "execution_count": 10,
   "metadata": {
    "colab": {
     "base_uri": "https://localhost:8080/",
     "height": 35
    },
    "colab_type": "code",
    "executionInfo": {
     "elapsed": 1247,
     "status": "ok",
     "timestamp": 1599334729878,
     "user": {
      "displayName": "Nelson LIN",
      "photoUrl": "https://lh3.googleusercontent.com/a-/AOh14GgrEZmWMjk_h9SZRyH_-oJW-4yrQ19ywOKCx8EA=s64",
      "userId": "03694478629413699942"
     },
     "user_tz": -480
    },
    "id": "MigfFVSreUtp",
    "outputId": "b708e285-b2e7-49f5-c438-20f7a7424e94"
   },
   "outputs": [
    {
     "data": {
      "text/plain": [
       "86821"
      ]
     },
     "execution_count": 10,
     "metadata": {
      "tags": []
     },
     "output_type": "execute_result"
    }
   ],
   "source": [
    "len(train_data)"
   ]
  },
  {
   "cell_type": "code",
   "execution_count": 11,
   "metadata": {
    "colab": {},
    "colab_type": "code",
    "executionInfo": {
     "elapsed": 763,
     "status": "ok",
     "timestamp": 1599334731718,
     "user": {
      "displayName": "Nelson LIN",
      "photoUrl": "https://lh3.googleusercontent.com/a-/AOh14GgrEZmWMjk_h9SZRyH_-oJW-4yrQ19ywOKCx8EA=s64",
      "userId": "03694478629413699942"
     },
     "user_tz": -480
    },
    "id": "sAIb4mmWiqCc"
   },
   "outputs": [],
   "source": [
    "dev_data = train_data[500:]  ### only 500 for validation"
   ]
  },
  {
   "cell_type": "code",
   "execution_count": 12,
   "metadata": {
    "colab": {},
    "colab_type": "code",
    "executionInfo": {
     "elapsed": 600,
     "status": "ok",
     "timestamp": 1599334732776,
     "user": {
      "displayName": "Nelson LIN",
      "photoUrl": "https://lh3.googleusercontent.com/a-/AOh14GgrEZmWMjk_h9SZRyH_-oJW-4yrQ19ywOKCx8EA=s64",
      "userId": "03694478629413699942"
     },
     "user_tz": -480
    },
    "id": "fxfPfSBleWQw"
   },
   "outputs": [],
   "source": [
    "train_data = train_data[:500] ### only 500 for training"
   ]
  },
  {
   "cell_type": "code",
   "execution_count": 13,
   "metadata": {
    "colab": {
     "base_uri": "https://localhost:8080/",
     "height": 245
    },
    "colab_type": "code",
    "executionInfo": {
     "elapsed": 448,
     "status": "ok",
     "timestamp": 1599334733922,
     "user": {
      "displayName": "Nelson LIN",
      "photoUrl": "https://lh3.googleusercontent.com/a-/AOh14GgrEZmWMjk_h9SZRyH_-oJW-4yrQ19ywOKCx8EA=s64",
      "userId": "03694478629413699942"
     },
     "user_tz": -480
    },
    "id": "xu9zf6s1dQNF",
    "outputId": "faffbc92-bb8f-495a-a0a8-f36cae3307a7"
   },
   "outputs": [
    {
     "data": {
      "text/plain": [
       "[['56be85543aeaaa14008c9063',\n",
       "  'Beyoncé Giselle Knowles-Carter (/biːˈjɒnseɪ/ bee-YON-say) (born September 4, 1981) is an American singer, songwriter, record producer and actress. Born and raised in Houston, Texas, she performed in various singing and dancing competitions as a child, and rose to fame in the late 1990s as lead singer of R&B girl-group Destiny\\'s Child. Managed by her father, Mathew Knowles, the group became one of the world\\'s best-selling girl groups of all time. Their hiatus saw the release of Beyoncé\\'s debut album, Dangerously in Love (2003), which established her as a solo artist worldwide, earned five Grammy Awards and featured the Billboard Hot 100 number-one singles \"Crazy in Love\" and \"Baby Boy\".',\n",
       "  'When did Beyonce start becoming popular?',\n",
       "  ['in the late 1990s']],\n",
       " ['56be85543aeaaa14008c9065',\n",
       "  'Beyoncé Giselle Knowles-Carter (/biːˈjɒnseɪ/ bee-YON-say) (born September 4, 1981) is an American singer, songwriter, record producer and actress. Born and raised in Houston, Texas, she performed in various singing and dancing competitions as a child, and rose to fame in the late 1990s as lead singer of R&B girl-group Destiny\\'s Child. Managed by her father, Mathew Knowles, the group became one of the world\\'s best-selling girl groups of all time. Their hiatus saw the release of Beyoncé\\'s debut album, Dangerously in Love (2003), which established her as a solo artist worldwide, earned five Grammy Awards and featured the Billboard Hot 100 number-one singles \"Crazy in Love\" and \"Baby Boy\".',\n",
       "  'What areas did Beyonce compete in when she was growing up?',\n",
       "  ['singing and dancing']],\n",
       " ['56be85543aeaaa14008c9066',\n",
       "  'Beyoncé Giselle Knowles-Carter (/biːˈjɒnseɪ/ bee-YON-say) (born September 4, 1981) is an American singer, songwriter, record producer and actress. Born and raised in Houston, Texas, she performed in various singing and dancing competitions as a child, and rose to fame in the late 1990s as lead singer of R&B girl-group Destiny\\'s Child. Managed by her father, Mathew Knowles, the group became one of the world\\'s best-selling girl groups of all time. Their hiatus saw the release of Beyoncé\\'s debut album, Dangerously in Love (2003), which established her as a solo artist worldwide, earned five Grammy Awards and featured the Billboard Hot 100 number-one singles \"Crazy in Love\" and \"Baby Boy\".',\n",
       "  \"When did Beyonce leave Destiny's Child and become a solo singer?\",\n",
       "  ['2003']]]"
      ]
     },
     "execution_count": 13,
     "metadata": {
      "tags": []
     },
     "output_type": "execute_result"
    }
   ],
   "source": [
    "train_data[:3]"
   ]
  },
  {
   "cell_type": "markdown",
   "metadata": {
    "colab_type": "text",
    "id": "RIr99HdFdQNN"
   },
   "source": [
    "# 3) tokenizer: tokenize"
   ]
  },
  {
   "cell_type": "code",
   "execution_count": 14,
   "metadata": {
    "colab": {},
    "colab_type": "code",
    "executionInfo": {
     "elapsed": 967,
     "status": "ok",
     "timestamp": 1599334735874,
     "user": {
      "displayName": "Nelson LIN",
      "photoUrl": "https://lh3.googleusercontent.com/a-/AOh14GgrEZmWMjk_h9SZRyH_-oJW-4yrQ19ywOKCx8EA=s64",
      "userId": "03694478629413699942"
     },
     "user_tz": -480
    },
    "id": "8G1BqYjh83Ub"
   },
   "outputs": [],
   "source": [
    "tokenizer = Tokenizer(dict_path, do_lower_case=True)"
   ]
  },
  {
   "cell_type": "markdown",
   "metadata": {
    "colab_type": "text",
    "id": "K399Sc5E83Ud"
   },
   "source": [
    "# 4) sub-string search"
   ]
  },
  {
   "cell_type": "code",
   "execution_count": 15,
   "metadata": {
    "colab": {},
    "colab_type": "code",
    "executionInfo": {
     "elapsed": 833,
     "status": "ok",
     "timestamp": 1599334736364,
     "user": {
      "displayName": "Nelson LIN",
      "photoUrl": "https://lh3.googleusercontent.com/a-/AOh14GgrEZmWMjk_h9SZRyH_-oJW-4yrQ19ywOKCx8EA=s64",
      "userId": "03694478629413699942"
     },
     "user_tz": -480
    },
    "id": "C2Y8mXlE83Ue"
   },
   "outputs": [],
   "source": [
    "def search(pattern, sequence):\n",
    "    n = len(pattern)\n",
    "    for i in range(len(sequence)):\n",
    "        if sequence[i:i + n] == pattern:\n",
    "            return i\n",
    "    return -1"
   ]
  },
  {
   "cell_type": "markdown",
   "metadata": {
    "colab_type": "text",
    "id": "QHMtsGYC83Uh"
   },
   "source": [
    "# 5) Data generator"
   ]
  },
  {
   "cell_type": "code",
   "execution_count": 16,
   "metadata": {
    "colab": {},
    "colab_type": "code",
    "executionInfo": {
     "elapsed": 794,
     "status": "ok",
     "timestamp": 1599334736847,
     "user": {
      "displayName": "Nelson LIN",
      "photoUrl": "https://lh3.googleusercontent.com/a-/AOh14GgrEZmWMjk_h9SZRyH_-oJW-4yrQ19ywOKCx8EA=s64",
      "userId": "03694478629413699942"
     },
     "user_tz": -480
    },
    "id": "fypxJpY583Uh"
   },
   "outputs": [],
   "source": [
    "class data_generator(DataGenerator):\n",
    "    def __iter__(self, random=False):\n",
    "        batch_token_ids, batch_segment_ids, batch_labels = [], [], []\n",
    "        \n",
    "        for is_end, item in self.sample(random):\n",
    "            \n",
    "            context, question, answers = item[1:]\n",
    "            \n",
    "            token_ids, segment_ids = tokenizer.encode(\n",
    "                question, context, max_length=maxlen\n",
    "            )\n",
    "            a = np.random.choice(answers)\n",
    "            \n",
    "            a_token_ids = tokenizer.encode(a)[0][1:-1]\n",
    "            \n",
    "            start_index = search(a_token_ids, token_ids)\n",
    "            \n",
    "            if start_index != -1:\n",
    "                \n",
    "                labels = [[start_index], [start_index + len(a_token_ids) - 1]]\n",
    "                \n",
    "                batch_token_ids.append(token_ids)\n",
    "                \n",
    "                batch_segment_ids.append(segment_ids)\n",
    "                \n",
    "                batch_labels.append(labels)\n",
    "                \n",
    "                if len(batch_token_ids) == self.batch_size or is_end:\n",
    "                    \n",
    "                    batch_token_ids = sequence_padding(batch_token_ids)\n",
    "                    \n",
    "                    batch_segment_ids = sequence_padding(batch_segment_ids)\n",
    "                    \n",
    "                    batch_labels = sequence_padding(batch_labels)\n",
    "                    \n",
    "                    yield [batch_token_ids, batch_segment_ids], batch_labels\n",
    "                    \n",
    "                    batch_token_ids, batch_segment_ids, batch_labels = [], [], []"
   ]
  },
  {
   "cell_type": "code",
   "execution_count": 17,
   "metadata": {
    "colab": {},
    "colab_type": "code",
    "executionInfo": {
     "elapsed": 918,
     "status": "ok",
     "timestamp": 1599334737194,
     "user": {
      "displayName": "Nelson LIN",
      "photoUrl": "https://lh3.googleusercontent.com/a-/AOh14GgrEZmWMjk_h9SZRyH_-oJW-4yrQ19ywOKCx8EA=s64",
      "userId": "03694478629413699942"
     },
     "user_tz": -480
    },
    "id": "6StsWIEUdQNr"
   },
   "outputs": [],
   "source": [
    "train_generator = data_generator(train_data, batch_size)\n",
    "# evaluator = Evaluator()"
   ]
  },
  {
   "cell_type": "code",
   "execution_count": 18,
   "metadata": {
    "colab": {
     "base_uri": "https://localhost:8080/",
     "height": 1000
    },
    "colab_type": "code",
    "executionInfo": {
     "elapsed": 438,
     "status": "ok",
     "timestamp": 1599334737196,
     "user": {
      "displayName": "Nelson LIN",
      "photoUrl": "https://lh3.googleusercontent.com/a-/AOh14GgrEZmWMjk_h9SZRyH_-oJW-4yrQ19ywOKCx8EA=s64",
      "userId": "03694478629413699942"
     },
     "user_tz": -480
    },
    "id": "lwq17Ck4dQNu",
    "outputId": "6309a380-e9c4-4006-a687-2a63d30859f3"
   },
   "outputs": [
    {
     "data": {
      "text/plain": [
       "([array([[  101,  2043,  2106, 20773,  2707,  3352,  2759,  1029,   102,\n",
       "          20773, 21025, 19358, 22815,  1011,  5708,  1006,  1013, 12170,\n",
       "          23432, 29715,  3501, 29678, 12325, 29685,  1013, 10506,  1011,\n",
       "          10930,  2078,  1011,  2360,  1007,  1006,  2141,  2244,  1018,\n",
       "           1010,  3261,  1007,  2003,  2019,  2137,  3220,  1010,  6009,\n",
       "           1010,  2501,  3135,  1998,  3883,  1012,  2141,  1998,  2992,\n",
       "           1999,  5395,  1010,  3146,  1010,  2016,  2864,  1999,  2536,\n",
       "           4823,  1998,  5613,  6479,  2004,  1037,  2775,  1010,  1998,\n",
       "           3123,  2000,  4476,  1999,  1996,  2397,  4134,  2004,  2599,\n",
       "           3220,  1997,  1054,  1004,  1038,  2611,  1011,  2177, 10461,\n",
       "           1005,  1055,  2775,  1012,  3266,  2011,  2014,  2269,  1010,\n",
       "          25436, 22815,  1010,  1996,  2177,  2150,  2028,  1997,  1996,\n",
       "           2088,  1005,  1055,  2190,  1011,  4855,  2611,  2967,  1997,\n",
       "           2035,  2051,  1012,  2037, 14221,  2387,  1996,  2713,  1997,\n",
       "          20773,  1005,  1055,  2834,  2201,  1010, 20754,  1999,  2293,\n",
       "           1006,  2494,  1007,  1010,  2029,  2511,  2014,  2004,  1037,\n",
       "           3948,  3063,  4969,  1010,  3687,  2274,  8922,  2982,  1998,\n",
       "           2956,  1996,  4908,  2980,  2531,  2193,  1011,  2028,  3895,\n",
       "           1000,  4689,  1999,  2293,  1000,  1998,  1000,  3336,  2879,\n",
       "           1000,  1012,   102,     0,     0,     0,     0,     0,     0,\n",
       "              0],\n",
       "         [  101,  2054,  2752,  2106, 20773,  5566,  1999,  2043,  2016,\n",
       "           2001,  3652,  2039,  1029,   102, 20773, 21025, 19358, 22815,\n",
       "           1011,  5708,  1006,  1013, 12170, 23432, 29715,  3501, 29678,\n",
       "          12325, 29685,  1013, 10506,  1011, 10930,  2078,  1011,  2360,\n",
       "           1007,  1006,  2141,  2244,  1018,  1010,  3261,  1007,  2003,\n",
       "           2019,  2137,  3220,  1010,  6009,  1010,  2501,  3135,  1998,\n",
       "           3883,  1012,  2141,  1998,  2992,  1999,  5395,  1010,  3146,\n",
       "           1010,  2016,  2864,  1999,  2536,  4823,  1998,  5613,  6479,\n",
       "           2004,  1037,  2775,  1010,  1998,  3123,  2000,  4476,  1999,\n",
       "           1996,  2397,  4134,  2004,  2599,  3220,  1997,  1054,  1004,\n",
       "           1038,  2611,  1011,  2177, 10461,  1005,  1055,  2775,  1012,\n",
       "           3266,  2011,  2014,  2269,  1010, 25436, 22815,  1010,  1996,\n",
       "           2177,  2150,  2028,  1997,  1996,  2088,  1005,  1055,  2190,\n",
       "           1011,  4855,  2611,  2967,  1997,  2035,  2051,  1012,  2037,\n",
       "          14221,  2387,  1996,  2713,  1997, 20773,  1005,  1055,  2834,\n",
       "           2201,  1010, 20754,  1999,  2293,  1006,  2494,  1007,  1010,\n",
       "           2029,  2511,  2014,  2004,  1037,  3948,  3063,  4969,  1010,\n",
       "           3687,  2274,  8922,  2982,  1998,  2956,  1996,  4908,  2980,\n",
       "           2531,  2193,  1011,  2028,  3895,  1000,  4689,  1999,  2293,\n",
       "           1000,  1998,  1000,  3336,  2879,  1000,  1012,   102,     0,\n",
       "              0],\n",
       "         [  101,  2043,  2106, 20773,  2681, 10461,  1005,  1055,  2775,\n",
       "           1998,  2468,  1037,  3948,  3220,  1029,   102, 20773, 21025,\n",
       "          19358, 22815,  1011,  5708,  1006,  1013, 12170, 23432, 29715,\n",
       "           3501, 29678, 12325, 29685,  1013, 10506,  1011, 10930,  2078,\n",
       "           1011,  2360,  1007,  1006,  2141,  2244,  1018,  1010,  3261,\n",
       "           1007,  2003,  2019,  2137,  3220,  1010,  6009,  1010,  2501,\n",
       "           3135,  1998,  3883,  1012,  2141,  1998,  2992,  1999,  5395,\n",
       "           1010,  3146,  1010,  2016,  2864,  1999,  2536,  4823,  1998,\n",
       "           5613,  6479,  2004,  1037,  2775,  1010,  1998,  3123,  2000,\n",
       "           4476,  1999,  1996,  2397,  4134,  2004,  2599,  3220,  1997,\n",
       "           1054,  1004,  1038,  2611,  1011,  2177, 10461,  1005,  1055,\n",
       "           2775,  1012,  3266,  2011,  2014,  2269,  1010, 25436, 22815,\n",
       "           1010,  1996,  2177,  2150,  2028,  1997,  1996,  2088,  1005,\n",
       "           1055,  2190,  1011,  4855,  2611,  2967,  1997,  2035,  2051,\n",
       "           1012,  2037, 14221,  2387,  1996,  2713,  1997, 20773,  1005,\n",
       "           1055,  2834,  2201,  1010, 20754,  1999,  2293,  1006,  2494,\n",
       "           1007,  1010,  2029,  2511,  2014,  2004,  1037,  3948,  3063,\n",
       "           4969,  1010,  3687,  2274,  8922,  2982,  1998,  2956,  1996,\n",
       "           4908,  2980,  2531,  2193,  1011,  2028,  3895,  1000,  4689,\n",
       "           1999,  2293,  1000,  1998,  1000,  3336,  2879,  1000,  1012,\n",
       "            102],\n",
       "         [  101,  1999,  2054,  2103,  1998,  2110,  2106, 20773,  4982,\n",
       "           2039,  1029,   102, 20773, 21025, 19358, 22815,  1011,  5708,\n",
       "           1006,  1013, 12170, 23432, 29715,  3501, 29678, 12325, 29685,\n",
       "           1013, 10506,  1011, 10930,  2078,  1011,  2360,  1007,  1006,\n",
       "           2141,  2244,  1018,  1010,  3261,  1007,  2003,  2019,  2137,\n",
       "           3220,  1010,  6009,  1010,  2501,  3135,  1998,  3883,  1012,\n",
       "           2141,  1998,  2992,  1999,  5395,  1010,  3146,  1010,  2016,\n",
       "           2864,  1999,  2536,  4823,  1998,  5613,  6479,  2004,  1037,\n",
       "           2775,  1010,  1998,  3123,  2000,  4476,  1999,  1996,  2397,\n",
       "           4134,  2004,  2599,  3220,  1997,  1054,  1004,  1038,  2611,\n",
       "           1011,  2177, 10461,  1005,  1055,  2775,  1012,  3266,  2011,\n",
       "           2014,  2269,  1010, 25436, 22815,  1010,  1996,  2177,  2150,\n",
       "           2028,  1997,  1996,  2088,  1005,  1055,  2190,  1011,  4855,\n",
       "           2611,  2967,  1997,  2035,  2051,  1012,  2037, 14221,  2387,\n",
       "           1996,  2713,  1997, 20773,  1005,  1055,  2834,  2201,  1010,\n",
       "          20754,  1999,  2293,  1006,  2494,  1007,  1010,  2029,  2511,\n",
       "           2014,  2004,  1037,  3948,  3063,  4969,  1010,  3687,  2274,\n",
       "           8922,  2982,  1998,  2956,  1996,  4908,  2980,  2531,  2193,\n",
       "           1011,  2028,  3895,  1000,  4689,  1999,  2293,  1000,  1998,\n",
       "           1000,  3336,  2879,  1000,  1012,   102,     0,     0,     0,\n",
       "              0]]),\n",
       "  array([[0, 0, 0, 0, 0, 0, 0, 0, 0, 1, 1, 1, 1, 1, 1, 1, 1, 1, 1, 1, 1, 1,\n",
       "          1, 1, 1, 1, 1, 1, 1, 1, 1, 1, 1, 1, 1, 1, 1, 1, 1, 1, 1, 1, 1, 1,\n",
       "          1, 1, 1, 1, 1, 1, 1, 1, 1, 1, 1, 1, 1, 1, 1, 1, 1, 1, 1, 1, 1, 1,\n",
       "          1, 1, 1, 1, 1, 1, 1, 1, 1, 1, 1, 1, 1, 1, 1, 1, 1, 1, 1, 1, 1, 1,\n",
       "          1, 1, 1, 1, 1, 1, 1, 1, 1, 1, 1, 1, 1, 1, 1, 1, 1, 1, 1, 1, 1, 1,\n",
       "          1, 1, 1, 1, 1, 1, 1, 1, 1, 1, 1, 1, 1, 1, 1, 1, 1, 1, 1, 1, 1, 1,\n",
       "          1, 1, 1, 1, 1, 1, 1, 1, 1, 1, 1, 1, 1, 1, 1, 1, 1, 1, 1, 1, 1, 1,\n",
       "          1, 1, 1, 1, 1, 1, 1, 1, 1, 1, 1, 1, 1, 1, 1, 1, 1, 1, 1, 1, 0, 0,\n",
       "          0, 0, 0, 0, 0],\n",
       "         [0, 0, 0, 0, 0, 0, 0, 0, 0, 0, 0, 0, 0, 0, 1, 1, 1, 1, 1, 1, 1, 1,\n",
       "          1, 1, 1, 1, 1, 1, 1, 1, 1, 1, 1, 1, 1, 1, 1, 1, 1, 1, 1, 1, 1, 1,\n",
       "          1, 1, 1, 1, 1, 1, 1, 1, 1, 1, 1, 1, 1, 1, 1, 1, 1, 1, 1, 1, 1, 1,\n",
       "          1, 1, 1, 1, 1, 1, 1, 1, 1, 1, 1, 1, 1, 1, 1, 1, 1, 1, 1, 1, 1, 1,\n",
       "          1, 1, 1, 1, 1, 1, 1, 1, 1, 1, 1, 1, 1, 1, 1, 1, 1, 1, 1, 1, 1, 1,\n",
       "          1, 1, 1, 1, 1, 1, 1, 1, 1, 1, 1, 1, 1, 1, 1, 1, 1, 1, 1, 1, 1, 1,\n",
       "          1, 1, 1, 1, 1, 1, 1, 1, 1, 1, 1, 1, 1, 1, 1, 1, 1, 1, 1, 1, 1, 1,\n",
       "          1, 1, 1, 1, 1, 1, 1, 1, 1, 1, 1, 1, 1, 1, 1, 1, 1, 1, 1, 1, 1, 1,\n",
       "          1, 1, 1, 0, 0],\n",
       "         [0, 0, 0, 0, 0, 0, 0, 0, 0, 0, 0, 0, 0, 0, 0, 0, 1, 1, 1, 1, 1, 1,\n",
       "          1, 1, 1, 1, 1, 1, 1, 1, 1, 1, 1, 1, 1, 1, 1, 1, 1, 1, 1, 1, 1, 1,\n",
       "          1, 1, 1, 1, 1, 1, 1, 1, 1, 1, 1, 1, 1, 1, 1, 1, 1, 1, 1, 1, 1, 1,\n",
       "          1, 1, 1, 1, 1, 1, 1, 1, 1, 1, 1, 1, 1, 1, 1, 1, 1, 1, 1, 1, 1, 1,\n",
       "          1, 1, 1, 1, 1, 1, 1, 1, 1, 1, 1, 1, 1, 1, 1, 1, 1, 1, 1, 1, 1, 1,\n",
       "          1, 1, 1, 1, 1, 1, 1, 1, 1, 1, 1, 1, 1, 1, 1, 1, 1, 1, 1, 1, 1, 1,\n",
       "          1, 1, 1, 1, 1, 1, 1, 1, 1, 1, 1, 1, 1, 1, 1, 1, 1, 1, 1, 1, 1, 1,\n",
       "          1, 1, 1, 1, 1, 1, 1, 1, 1, 1, 1, 1, 1, 1, 1, 1, 1, 1, 1, 1, 1, 1,\n",
       "          1, 1, 1, 1, 1],\n",
       "         [0, 0, 0, 0, 0, 0, 0, 0, 0, 0, 0, 0, 1, 1, 1, 1, 1, 1, 1, 1, 1, 1,\n",
       "          1, 1, 1, 1, 1, 1, 1, 1, 1, 1, 1, 1, 1, 1, 1, 1, 1, 1, 1, 1, 1, 1,\n",
       "          1, 1, 1, 1, 1, 1, 1, 1, 1, 1, 1, 1, 1, 1, 1, 1, 1, 1, 1, 1, 1, 1,\n",
       "          1, 1, 1, 1, 1, 1, 1, 1, 1, 1, 1, 1, 1, 1, 1, 1, 1, 1, 1, 1, 1, 1,\n",
       "          1, 1, 1, 1, 1, 1, 1, 1, 1, 1, 1, 1, 1, 1, 1, 1, 1, 1, 1, 1, 1, 1,\n",
       "          1, 1, 1, 1, 1, 1, 1, 1, 1, 1, 1, 1, 1, 1, 1, 1, 1, 1, 1, 1, 1, 1,\n",
       "          1, 1, 1, 1, 1, 1, 1, 1, 1, 1, 1, 1, 1, 1, 1, 1, 1, 1, 1, 1, 1, 1,\n",
       "          1, 1, 1, 1, 1, 1, 1, 1, 1, 1, 1, 1, 1, 1, 1, 1, 1, 1, 1, 1, 1, 1,\n",
       "          1, 0, 0, 0, 0]])],\n",
       " array([[[ 75],\n",
       "         [ 78]],\n",
       " \n",
       "        [[ 68],\n",
       "         [ 70]],\n",
       " \n",
       "        [[143],\n",
       "         [143]],\n",
       " \n",
       "        [[ 58],\n",
       "         [ 60]]]))"
      ]
     },
     "execution_count": 18,
     "metadata": {
      "tags": []
     },
     "output_type": "execute_result"
    }
   ],
   "source": [
    "next(iter(train_generator))"
   ]
  },
  {
   "cell_type": "markdown",
   "metadata": {
    "colab_type": "text",
    "id": "J641DoSnfLCs"
   },
   "source": [
    "# 6) Masked Softmax"
   ]
  },
  {
   "cell_type": "code",
   "execution_count": 19,
   "metadata": {
    "colab": {},
    "colab_type": "code",
    "executionInfo": {
     "elapsed": 671,
     "status": "ok",
     "timestamp": 1599334743482,
     "user": {
      "displayName": "Nelson LIN",
      "photoUrl": "https://lh3.googleusercontent.com/a-/AOh14GgrEZmWMjk_h9SZRyH_-oJW-4yrQ19ywOKCx8EA=s64",
      "userId": "03694478629413699942"
     },
     "user_tz": -480
    },
    "id": "jbuoJCYJ83Uk"
   },
   "outputs": [],
   "source": [
    "class MaskedSoftmax(Layer):\n",
    "    \"\"\"\n",
    "    softmax the last dimension, and mask the padding\n",
    "    \"\"\"\n",
    "    def compute_mask(self, inputs, mask=None):\n",
    "        return None\n",
    "\n",
    "    def call(self, inputs, mask=None):\n",
    "        if mask is not None:\n",
    "            mask = K.cast(mask, K.floatx())\n",
    "            mask = K.expand_dims(mask, 2)\n",
    "            inputs = inputs - (1.0 - mask) * 1e12\n",
    "        return K.softmax(inputs, 1)"
   ]
  },
  {
   "cell_type": "markdown",
   "metadata": {
    "colab_type": "text",
    "id": "n2vYtLW683Um"
   },
   "source": [
    "# 7) model construction"
   ]
  },
  {
   "cell_type": "code",
   "execution_count": 20,
   "metadata": {
    "colab": {
     "base_uri": "https://localhost:8080/",
     "height": 1000
    },
    "colab_type": "code",
    "executionInfo": {
     "elapsed": 39090,
     "status": "ok",
     "timestamp": 1599334784849,
     "user": {
      "displayName": "Nelson LIN",
      "photoUrl": "https://lh3.googleusercontent.com/a-/AOh14GgrEZmWMjk_h9SZRyH_-oJW-4yrQ19ywOKCx8EA=s64",
      "userId": "03694478629413699942"
     },
     "user_tz": -480
    },
    "id": "kNmeanl_83Um",
    "outputId": "fb40c9d6-07bf-45d8-a6d1-518d2de94bef"
   },
   "outputs": [
    {
     "name": "stdout",
     "output_type": "stream",
     "text": [
      "Model: \"functional_3\"\n",
      "__________________________________________________________________________________________________\n",
      "Layer (type)                    Output Shape         Param #     Connected to                     \n",
      "==================================================================================================\n",
      "Input-Token (InputLayer)        [(None, None)]       0                                            \n",
      "__________________________________________________________________________________________________\n",
      "Input-Segment (InputLayer)      [(None, None)]       0                                            \n",
      "__________________________________________________________________________________________________\n",
      "Embedding-Token (Embedding)     (None, None, 768)    23440896    Input-Token[0][0]                \n",
      "__________________________________________________________________________________________________\n",
      "Embedding-Segment (Embedding)   (None, None, 768)    1536        Input-Segment[0][0]              \n",
      "__________________________________________________________________________________________________\n",
      "Embedding-Token-Segment (Add)   (None, None, 768)    0           Embedding-Token[0][0]            \n",
      "                                                                 Embedding-Segment[0][0]          \n",
      "__________________________________________________________________________________________________\n",
      "Embedding-Position (PositionEmb (None, None, 768)    393216      Embedding-Token-Segment[0][0]    \n",
      "__________________________________________________________________________________________________\n",
      "Embedding-Norm (LayerNormalizat (None, None, 768)    1536        Embedding-Position[0][0]         \n",
      "__________________________________________________________________________________________________\n",
      "Embedding-Dropout (Dropout)     (None, None, 768)    0           Embedding-Norm[0][0]             \n",
      "__________________________________________________________________________________________________\n",
      "Transformer-0-MultiHeadSelfAtte (None, None, 768)    2362368     Embedding-Dropout[0][0]          \n",
      "                                                                 Embedding-Dropout[0][0]          \n",
      "                                                                 Embedding-Dropout[0][0]          \n",
      "__________________________________________________________________________________________________\n",
      "Transformer-0-MultiHeadSelfAtte (None, None, 768)    0           Transformer-0-MultiHeadSelfAttent\n",
      "__________________________________________________________________________________________________\n",
      "Transformer-0-MultiHeadSelfAtte (None, None, 768)    0           Embedding-Dropout[0][0]          \n",
      "                                                                 Transformer-0-MultiHeadSelfAttent\n",
      "__________________________________________________________________________________________________\n",
      "Transformer-0-MultiHeadSelfAtte (None, None, 768)    1536        Transformer-0-MultiHeadSelfAttent\n",
      "__________________________________________________________________________________________________\n",
      "Transformer-0-FeedForward (Feed (None, None, 768)    4722432     Transformer-0-MultiHeadSelfAttent\n",
      "__________________________________________________________________________________________________\n",
      "Transformer-0-FeedForward-Dropo (None, None, 768)    0           Transformer-0-FeedForward[0][0]  \n",
      "__________________________________________________________________________________________________\n",
      "Transformer-0-FeedForward-Add ( (None, None, 768)    0           Transformer-0-MultiHeadSelfAttent\n",
      "                                                                 Transformer-0-FeedForward-Dropout\n",
      "__________________________________________________________________________________________________\n",
      "Transformer-0-FeedForward-Norm  (None, None, 768)    1536        Transformer-0-FeedForward-Add[0][\n",
      "__________________________________________________________________________________________________\n",
      "Transformer-1-MultiHeadSelfAtte (None, None, 768)    2362368     Transformer-0-FeedForward-Norm[0]\n",
      "                                                                 Transformer-0-FeedForward-Norm[0]\n",
      "                                                                 Transformer-0-FeedForward-Norm[0]\n",
      "__________________________________________________________________________________________________\n",
      "Transformer-1-MultiHeadSelfAtte (None, None, 768)    0           Transformer-1-MultiHeadSelfAttent\n",
      "__________________________________________________________________________________________________\n",
      "Transformer-1-MultiHeadSelfAtte (None, None, 768)    0           Transformer-0-FeedForward-Norm[0]\n",
      "                                                                 Transformer-1-MultiHeadSelfAttent\n",
      "__________________________________________________________________________________________________\n",
      "Transformer-1-MultiHeadSelfAtte (None, None, 768)    1536        Transformer-1-MultiHeadSelfAttent\n",
      "__________________________________________________________________________________________________\n",
      "Transformer-1-FeedForward (Feed (None, None, 768)    4722432     Transformer-1-MultiHeadSelfAttent\n",
      "__________________________________________________________________________________________________\n",
      "Transformer-1-FeedForward-Dropo (None, None, 768)    0           Transformer-1-FeedForward[0][0]  \n",
      "__________________________________________________________________________________________________\n",
      "Transformer-1-FeedForward-Add ( (None, None, 768)    0           Transformer-1-MultiHeadSelfAttent\n",
      "                                                                 Transformer-1-FeedForward-Dropout\n",
      "__________________________________________________________________________________________________\n",
      "Transformer-1-FeedForward-Norm  (None, None, 768)    1536        Transformer-1-FeedForward-Add[0][\n",
      "__________________________________________________________________________________________________\n",
      "Transformer-2-MultiHeadSelfAtte (None, None, 768)    2362368     Transformer-1-FeedForward-Norm[0]\n",
      "                                                                 Transformer-1-FeedForward-Norm[0]\n",
      "                                                                 Transformer-1-FeedForward-Norm[0]\n",
      "__________________________________________________________________________________________________\n",
      "Transformer-2-MultiHeadSelfAtte (None, None, 768)    0           Transformer-2-MultiHeadSelfAttent\n",
      "__________________________________________________________________________________________________\n",
      "Transformer-2-MultiHeadSelfAtte (None, None, 768)    0           Transformer-1-FeedForward-Norm[0]\n",
      "                                                                 Transformer-2-MultiHeadSelfAttent\n",
      "__________________________________________________________________________________________________\n",
      "Transformer-2-MultiHeadSelfAtte (None, None, 768)    1536        Transformer-2-MultiHeadSelfAttent\n",
      "__________________________________________________________________________________________________\n",
      "Transformer-2-FeedForward (Feed (None, None, 768)    4722432     Transformer-2-MultiHeadSelfAttent\n",
      "__________________________________________________________________________________________________\n",
      "Transformer-2-FeedForward-Dropo (None, None, 768)    0           Transformer-2-FeedForward[0][0]  \n",
      "__________________________________________________________________________________________________\n",
      "Transformer-2-FeedForward-Add ( (None, None, 768)    0           Transformer-2-MultiHeadSelfAttent\n",
      "                                                                 Transformer-2-FeedForward-Dropout\n",
      "__________________________________________________________________________________________________\n",
      "Transformer-2-FeedForward-Norm  (None, None, 768)    1536        Transformer-2-FeedForward-Add[0][\n",
      "__________________________________________________________________________________________________\n",
      "Transformer-3-MultiHeadSelfAtte (None, None, 768)    2362368     Transformer-2-FeedForward-Norm[0]\n",
      "                                                                 Transformer-2-FeedForward-Norm[0]\n",
      "                                                                 Transformer-2-FeedForward-Norm[0]\n",
      "__________________________________________________________________________________________________\n",
      "Transformer-3-MultiHeadSelfAtte (None, None, 768)    0           Transformer-3-MultiHeadSelfAttent\n",
      "__________________________________________________________________________________________________\n",
      "Transformer-3-MultiHeadSelfAtte (None, None, 768)    0           Transformer-2-FeedForward-Norm[0]\n",
      "                                                                 Transformer-3-MultiHeadSelfAttent\n",
      "__________________________________________________________________________________________________\n",
      "Transformer-3-MultiHeadSelfAtte (None, None, 768)    1536        Transformer-3-MultiHeadSelfAttent\n",
      "__________________________________________________________________________________________________\n",
      "Transformer-3-FeedForward (Feed (None, None, 768)    4722432     Transformer-3-MultiHeadSelfAttent\n",
      "__________________________________________________________________________________________________\n",
      "Transformer-3-FeedForward-Dropo (None, None, 768)    0           Transformer-3-FeedForward[0][0]  \n",
      "__________________________________________________________________________________________________\n",
      "Transformer-3-FeedForward-Add ( (None, None, 768)    0           Transformer-3-MultiHeadSelfAttent\n",
      "                                                                 Transformer-3-FeedForward-Dropout\n",
      "__________________________________________________________________________________________________\n",
      "Transformer-3-FeedForward-Norm  (None, None, 768)    1536        Transformer-3-FeedForward-Add[0][\n",
      "__________________________________________________________________________________________________\n",
      "Transformer-4-MultiHeadSelfAtte (None, None, 768)    2362368     Transformer-3-FeedForward-Norm[0]\n",
      "                                                                 Transformer-3-FeedForward-Norm[0]\n",
      "                                                                 Transformer-3-FeedForward-Norm[0]\n",
      "__________________________________________________________________________________________________\n",
      "Transformer-4-MultiHeadSelfAtte (None, None, 768)    0           Transformer-4-MultiHeadSelfAttent\n",
      "__________________________________________________________________________________________________\n",
      "Transformer-4-MultiHeadSelfAtte (None, None, 768)    0           Transformer-3-FeedForward-Norm[0]\n",
      "                                                                 Transformer-4-MultiHeadSelfAttent\n",
      "__________________________________________________________________________________________________\n",
      "Transformer-4-MultiHeadSelfAtte (None, None, 768)    1536        Transformer-4-MultiHeadSelfAttent\n",
      "__________________________________________________________________________________________________\n",
      "Transformer-4-FeedForward (Feed (None, None, 768)    4722432     Transformer-4-MultiHeadSelfAttent\n",
      "__________________________________________________________________________________________________\n",
      "Transformer-4-FeedForward-Dropo (None, None, 768)    0           Transformer-4-FeedForward[0][0]  \n",
      "__________________________________________________________________________________________________\n",
      "Transformer-4-FeedForward-Add ( (None, None, 768)    0           Transformer-4-MultiHeadSelfAttent\n",
      "                                                                 Transformer-4-FeedForward-Dropout\n",
      "__________________________________________________________________________________________________\n",
      "Transformer-4-FeedForward-Norm  (None, None, 768)    1536        Transformer-4-FeedForward-Add[0][\n",
      "__________________________________________________________________________________________________\n",
      "Transformer-5-MultiHeadSelfAtte (None, None, 768)    2362368     Transformer-4-FeedForward-Norm[0]\n",
      "                                                                 Transformer-4-FeedForward-Norm[0]\n",
      "                                                                 Transformer-4-FeedForward-Norm[0]\n",
      "__________________________________________________________________________________________________\n",
      "Transformer-5-MultiHeadSelfAtte (None, None, 768)    0           Transformer-5-MultiHeadSelfAttent\n",
      "__________________________________________________________________________________________________\n",
      "Transformer-5-MultiHeadSelfAtte (None, None, 768)    0           Transformer-4-FeedForward-Norm[0]\n",
      "                                                                 Transformer-5-MultiHeadSelfAttent\n",
      "__________________________________________________________________________________________________\n",
      "Transformer-5-MultiHeadSelfAtte (None, None, 768)    1536        Transformer-5-MultiHeadSelfAttent\n",
      "__________________________________________________________________________________________________\n",
      "Transformer-5-FeedForward (Feed (None, None, 768)    4722432     Transformer-5-MultiHeadSelfAttent\n",
      "__________________________________________________________________________________________________\n",
      "Transformer-5-FeedForward-Dropo (None, None, 768)    0           Transformer-5-FeedForward[0][0]  \n",
      "__________________________________________________________________________________________________\n",
      "Transformer-5-FeedForward-Add ( (None, None, 768)    0           Transformer-5-MultiHeadSelfAttent\n",
      "                                                                 Transformer-5-FeedForward-Dropout\n",
      "__________________________________________________________________________________________________\n",
      "Transformer-5-FeedForward-Norm  (None, None, 768)    1536        Transformer-5-FeedForward-Add[0][\n",
      "__________________________________________________________________________________________________\n",
      "Transformer-6-MultiHeadSelfAtte (None, None, 768)    2362368     Transformer-5-FeedForward-Norm[0]\n",
      "                                                                 Transformer-5-FeedForward-Norm[0]\n",
      "                                                                 Transformer-5-FeedForward-Norm[0]\n",
      "__________________________________________________________________________________________________\n",
      "Transformer-6-MultiHeadSelfAtte (None, None, 768)    0           Transformer-6-MultiHeadSelfAttent\n",
      "__________________________________________________________________________________________________\n",
      "Transformer-6-MultiHeadSelfAtte (None, None, 768)    0           Transformer-5-FeedForward-Norm[0]\n",
      "                                                                 Transformer-6-MultiHeadSelfAttent\n",
      "__________________________________________________________________________________________________\n",
      "Transformer-6-MultiHeadSelfAtte (None, None, 768)    1536        Transformer-6-MultiHeadSelfAttent\n",
      "__________________________________________________________________________________________________\n",
      "Transformer-6-FeedForward (Feed (None, None, 768)    4722432     Transformer-6-MultiHeadSelfAttent\n",
      "__________________________________________________________________________________________________\n",
      "Transformer-6-FeedForward-Dropo (None, None, 768)    0           Transformer-6-FeedForward[0][0]  \n",
      "__________________________________________________________________________________________________\n",
      "Transformer-6-FeedForward-Add ( (None, None, 768)    0           Transformer-6-MultiHeadSelfAttent\n",
      "                                                                 Transformer-6-FeedForward-Dropout\n",
      "__________________________________________________________________________________________________\n",
      "Transformer-6-FeedForward-Norm  (None, None, 768)    1536        Transformer-6-FeedForward-Add[0][\n",
      "__________________________________________________________________________________________________\n",
      "Transformer-7-MultiHeadSelfAtte (None, None, 768)    2362368     Transformer-6-FeedForward-Norm[0]\n",
      "                                                                 Transformer-6-FeedForward-Norm[0]\n",
      "                                                                 Transformer-6-FeedForward-Norm[0]\n",
      "__________________________________________________________________________________________________\n",
      "Transformer-7-MultiHeadSelfAtte (None, None, 768)    0           Transformer-7-MultiHeadSelfAttent\n",
      "__________________________________________________________________________________________________\n",
      "Transformer-7-MultiHeadSelfAtte (None, None, 768)    0           Transformer-6-FeedForward-Norm[0]\n",
      "                                                                 Transformer-7-MultiHeadSelfAttent\n",
      "__________________________________________________________________________________________________\n",
      "Transformer-7-MultiHeadSelfAtte (None, None, 768)    1536        Transformer-7-MultiHeadSelfAttent\n",
      "__________________________________________________________________________________________________\n",
      "Transformer-7-FeedForward (Feed (None, None, 768)    4722432     Transformer-7-MultiHeadSelfAttent\n",
      "__________________________________________________________________________________________________\n",
      "Transformer-7-FeedForward-Dropo (None, None, 768)    0           Transformer-7-FeedForward[0][0]  \n",
      "__________________________________________________________________________________________________\n",
      "Transformer-7-FeedForward-Add ( (None, None, 768)    0           Transformer-7-MultiHeadSelfAttent\n",
      "                                                                 Transformer-7-FeedForward-Dropout\n",
      "__________________________________________________________________________________________________\n",
      "Transformer-7-FeedForward-Norm  (None, None, 768)    1536        Transformer-7-FeedForward-Add[0][\n",
      "__________________________________________________________________________________________________\n",
      "Transformer-8-MultiHeadSelfAtte (None, None, 768)    2362368     Transformer-7-FeedForward-Norm[0]\n",
      "                                                                 Transformer-7-FeedForward-Norm[0]\n",
      "                                                                 Transformer-7-FeedForward-Norm[0]\n",
      "__________________________________________________________________________________________________\n",
      "Transformer-8-MultiHeadSelfAtte (None, None, 768)    0           Transformer-8-MultiHeadSelfAttent\n",
      "__________________________________________________________________________________________________\n",
      "Transformer-8-MultiHeadSelfAtte (None, None, 768)    0           Transformer-7-FeedForward-Norm[0]\n",
      "                                                                 Transformer-8-MultiHeadSelfAttent\n",
      "__________________________________________________________________________________________________\n",
      "Transformer-8-MultiHeadSelfAtte (None, None, 768)    1536        Transformer-8-MultiHeadSelfAttent\n",
      "__________________________________________________________________________________________________\n",
      "Transformer-8-FeedForward (Feed (None, None, 768)    4722432     Transformer-8-MultiHeadSelfAttent\n",
      "__________________________________________________________________________________________________\n",
      "Transformer-8-FeedForward-Dropo (None, None, 768)    0           Transformer-8-FeedForward[0][0]  \n",
      "__________________________________________________________________________________________________\n",
      "Transformer-8-FeedForward-Add ( (None, None, 768)    0           Transformer-8-MultiHeadSelfAttent\n",
      "                                                                 Transformer-8-FeedForward-Dropout\n",
      "__________________________________________________________________________________________________\n",
      "Transformer-8-FeedForward-Norm  (None, None, 768)    1536        Transformer-8-FeedForward-Add[0][\n",
      "__________________________________________________________________________________________________\n",
      "Transformer-9-MultiHeadSelfAtte (None, None, 768)    2362368     Transformer-8-FeedForward-Norm[0]\n",
      "                                                                 Transformer-8-FeedForward-Norm[0]\n",
      "                                                                 Transformer-8-FeedForward-Norm[0]\n",
      "__________________________________________________________________________________________________\n",
      "Transformer-9-MultiHeadSelfAtte (None, None, 768)    0           Transformer-9-MultiHeadSelfAttent\n",
      "__________________________________________________________________________________________________\n",
      "Transformer-9-MultiHeadSelfAtte (None, None, 768)    0           Transformer-8-FeedForward-Norm[0]\n",
      "                                                                 Transformer-9-MultiHeadSelfAttent\n",
      "__________________________________________________________________________________________________\n",
      "Transformer-9-MultiHeadSelfAtte (None, None, 768)    1536        Transformer-9-MultiHeadSelfAttent\n",
      "__________________________________________________________________________________________________\n",
      "Transformer-9-FeedForward (Feed (None, None, 768)    4722432     Transformer-9-MultiHeadSelfAttent\n",
      "__________________________________________________________________________________________________\n",
      "Transformer-9-FeedForward-Dropo (None, None, 768)    0           Transformer-9-FeedForward[0][0]  \n",
      "__________________________________________________________________________________________________\n",
      "Transformer-9-FeedForward-Add ( (None, None, 768)    0           Transformer-9-MultiHeadSelfAttent\n",
      "                                                                 Transformer-9-FeedForward-Dropout\n",
      "__________________________________________________________________________________________________\n",
      "Transformer-9-FeedForward-Norm  (None, None, 768)    1536        Transformer-9-FeedForward-Add[0][\n",
      "__________________________________________________________________________________________________\n",
      "Transformer-10-MultiHeadSelfAtt (None, None, 768)    2362368     Transformer-9-FeedForward-Norm[0]\n",
      "                                                                 Transformer-9-FeedForward-Norm[0]\n",
      "                                                                 Transformer-9-FeedForward-Norm[0]\n",
      "__________________________________________________________________________________________________\n",
      "Transformer-10-MultiHeadSelfAtt (None, None, 768)    0           Transformer-10-MultiHeadSelfAtten\n",
      "__________________________________________________________________________________________________\n",
      "Transformer-10-MultiHeadSelfAtt (None, None, 768)    0           Transformer-9-FeedForward-Norm[0]\n",
      "                                                                 Transformer-10-MultiHeadSelfAtten\n",
      "__________________________________________________________________________________________________\n",
      "Transformer-10-MultiHeadSelfAtt (None, None, 768)    1536        Transformer-10-MultiHeadSelfAtten\n",
      "__________________________________________________________________________________________________\n",
      "Transformer-10-FeedForward (Fee (None, None, 768)    4722432     Transformer-10-MultiHeadSelfAtten\n",
      "__________________________________________________________________________________________________\n",
      "Transformer-10-FeedForward-Drop (None, None, 768)    0           Transformer-10-FeedForward[0][0] \n",
      "__________________________________________________________________________________________________\n",
      "Transformer-10-FeedForward-Add  (None, None, 768)    0           Transformer-10-MultiHeadSelfAtten\n",
      "                                                                 Transformer-10-FeedForward-Dropou\n",
      "__________________________________________________________________________________________________\n",
      "Transformer-10-FeedForward-Norm (None, None, 768)    1536        Transformer-10-FeedForward-Add[0]\n",
      "__________________________________________________________________________________________________\n",
      "Transformer-11-MultiHeadSelfAtt (None, None, 768)    2362368     Transformer-10-FeedForward-Norm[0\n",
      "                                                                 Transformer-10-FeedForward-Norm[0\n",
      "                                                                 Transformer-10-FeedForward-Norm[0\n",
      "__________________________________________________________________________________________________\n",
      "Transformer-11-MultiHeadSelfAtt (None, None, 768)    0           Transformer-11-MultiHeadSelfAtten\n",
      "__________________________________________________________________________________________________\n",
      "Transformer-11-MultiHeadSelfAtt (None, None, 768)    0           Transformer-10-FeedForward-Norm[0\n",
      "                                                                 Transformer-11-MultiHeadSelfAtten\n",
      "__________________________________________________________________________________________________\n",
      "Transformer-11-MultiHeadSelfAtt (None, None, 768)    1536        Transformer-11-MultiHeadSelfAtten\n",
      "__________________________________________________________________________________________________\n",
      "Transformer-11-FeedForward (Fee (None, None, 768)    4722432     Transformer-11-MultiHeadSelfAtten\n",
      "__________________________________________________________________________________________________\n",
      "Transformer-11-FeedForward-Drop (None, None, 768)    0           Transformer-11-FeedForward[0][0] \n",
      "__________________________________________________________________________________________________\n",
      "Transformer-11-FeedForward-Add  (None, None, 768)    0           Transformer-11-MultiHeadSelfAtten\n",
      "                                                                 Transformer-11-FeedForward-Dropou\n",
      "__________________________________________________________________________________________________\n",
      "Transformer-11-FeedForward-Norm (None, None, 768)    1536        Transformer-11-FeedForward-Add[0]\n",
      "__________________________________________________________________________________________________\n",
      "dense (Dense)                   (None, None, 2)      1538        Transformer-11-FeedForward-Norm[0\n",
      "__________________________________________________________________________________________________\n",
      "masked_softmax (MaskedSoftmax)  (None, None, 2)      0           dense[0][0]                      \n",
      "__________________________________________________________________________________________________\n",
      "permute (Permute)               (None, 2, None)      0           masked_softmax[0][0]             \n",
      "==================================================================================================\n",
      "Total params: 108,893,186\n",
      "Trainable params: 108,893,186\n",
      "Non-trainable params: 0\n",
      "__________________________________________________________________________________________________\n"
     ]
    }
   ],
   "source": [
    "model = build_transformer_model(\n",
    "    config_path,\n",
    "    checkpoint_path,\n",
    ")\n",
    "\n",
    "output = Dense(2)(model.output)\n",
    "output = MaskedSoftmax()(output)\n",
    "output = Permute((2, 1))(output)\n",
    "\n",
    "model = Model(model.input, output)\n",
    "model.summary()"
   ]
  },
  {
   "cell_type": "markdown",
   "metadata": {
    "colab_type": "text",
    "id": "TTDznSI483Uo"
   },
   "source": [
    "# 8)  Evaluation function"
   ]
  },
  {
   "cell_type": "code",
   "execution_count": 21,
   "metadata": {
    "colab": {},
    "colab_type": "code",
    "executionInfo": {
     "elapsed": 30100,
     "status": "ok",
     "timestamp": 1599334784851,
     "user": {
      "displayName": "Nelson LIN",
      "photoUrl": "https://lh3.googleusercontent.com/a-/AOh14GgrEZmWMjk_h9SZRyH_-oJW-4yrQ19ywOKCx8EA=s64",
      "userId": "03694478629413699942"
     },
     "user_tz": -480
    },
    "id": "aBwxu8Lw83Up"
   },
   "outputs": [],
   "source": [
    "def sparse_categorical_crossentropy(y_true, y_pred):\n",
    "    \n",
    "    y_true = K.reshape(y_true, K.shape(y_pred)[:-1])\n",
    "    y_true = K.cast(y_true, 'int32')\n",
    "    y_true = K.one_hot(y_true, K.shape(y_pred)[2])\n",
    "    \n",
    "    return K.mean(K.categorical_crossentropy(y_true, y_pred))\n",
    "\n",
    "\n",
    "def sparse_accuracy(y_true, y_pred):\n",
    "    \n",
    "    y_true = K.reshape(y_true, K.shape(y_pred)[:-1])\n",
    "    y_true = K.cast(y_true, 'int32')\n",
    "    \n",
    "    y_pred = K.cast(K.argmax(y_pred, axis=2), 'int32')\n",
    "    return K.mean(K.cast(K.equal(y_true, y_pred), K.floatx()))"
   ]
  },
  {
   "cell_type": "markdown",
   "metadata": {
    "colab_type": "text",
    "id": "cFxg5d8T83Uq"
   },
   "source": [
    "# 9) Compile model"
   ]
  },
  {
   "cell_type": "code",
   "execution_count": 22,
   "metadata": {
    "colab": {},
    "colab_type": "code",
    "executionInfo": {
     "elapsed": 28355,
     "status": "ok",
     "timestamp": 1599334784853,
     "user": {
      "displayName": "Nelson LIN",
      "photoUrl": "https://lh3.googleusercontent.com/a-/AOh14GgrEZmWMjk_h9SZRyH_-oJW-4yrQ19ywOKCx8EA=s64",
      "userId": "03694478629413699942"
     },
     "user_tz": -480
    },
    "id": "T-r4oWgd83Ur"
   },
   "outputs": [],
   "source": [
    "model.compile(\n",
    "    loss=sparse_categorical_crossentropy,\n",
    "    optimizer=Adam(learing_rate),\n",
    "    metrics=[sparse_accuracy]\n",
    ")"
   ]
  },
  {
   "cell_type": "markdown",
   "metadata": {
    "colab_type": "text",
    "id": "mzgvhsAPfoh1"
   },
   "source": [
    "# 10) Extract Answer Function"
   ]
  },
  {
   "cell_type": "code",
   "execution_count": 23,
   "metadata": {
    "colab": {},
    "colab_type": "code",
    "executionInfo": {
     "elapsed": 26150,
     "status": "ok",
     "timestamp": 1599334784854,
     "user": {
      "displayName": "Nelson LIN",
      "photoUrl": "https://lh3.googleusercontent.com/a-/AOh14GgrEZmWMjk_h9SZRyH_-oJW-4yrQ19ywOKCx8EA=s64",
      "userId": "03694478629413699942"
     },
     "user_tz": -480
    },
    "id": "kSj4Ri9p83Uu"
   },
   "outputs": [],
   "source": [
    "def extract_answer(question, context, max_a_len=16):\n",
    "    max_q_len = 64\n",
    "    q_token_ids = tokenizer.encode(question, max_length=max_q_len)[0]\n",
    "    c_token_ids = tokenizer.encode(\n",
    "        context, max_length=maxlen - len(q_token_ids) + 1\n",
    "    )[0]\n",
    "    token_ids = q_token_ids + c_token_ids[1:]\n",
    "    segment_ids = [0] * len(q_token_ids) + [1] * (len(c_token_ids) - 1)\n",
    "    c_tokens = tokenizer.tokenize(context)[1:-1]\n",
    "    mapping = tokenizer.rematch(context, c_tokens)\n",
    "    probas = model.predict([np.array([token_ids]), np.array([segment_ids])])[0]\n",
    "    probas = probas[:, len(q_token_ids):-1]\n",
    "    start_end, score = None, -1\n",
    "    for start, p_start in enumerate(probas[0]):\n",
    "        for end, p_end in enumerate(probas[1]):\n",
    "            if end >= start and end < start + max_a_len:\n",
    "                if p_start * p_end > score:\n",
    "                    start_end = (start, end)\n",
    "                    score = p_start * p_end\n",
    "                    \n",
    "    start, end = start_end\n",
    "    return context[mapping[start][0]:mapping[end][-1] + 1]"
   ]
  },
  {
   "cell_type": "markdown",
   "metadata": {
    "colab_type": "text",
    "id": "UPJHj4nS83Uw"
   },
   "source": [
    "# 11) Predicted Result Generation"
   ]
  },
  {
   "cell_type": "code",
   "execution_count": 24,
   "metadata": {
    "colab": {},
    "colab_type": "code",
    "executionInfo": {
     "elapsed": 18890,
     "status": "ok",
     "timestamp": 1599334784856,
     "user": {
      "displayName": "Nelson LIN",
      "photoUrl": "https://lh3.googleusercontent.com/a-/AOh14GgrEZmWMjk_h9SZRyH_-oJW-4yrQ19ywOKCx8EA=s64",
      "userId": "03694478629413699942"
     },
     "user_tz": -480
    },
    "id": "1yBZNbHu83Uw"
   },
   "outputs": [],
   "source": [
    "def predict_to_file(infile, out_file):\n",
    "    \"\"\"write out the predict result\n",
    "    \"\"\"\n",
    "    fw = open(out_file, 'w', encoding='utf-8')\n",
    "    R = {}\n",
    "    for d in tqdm(load_data(infile)[:500]): ### only 500\n",
    "        a = extract_answer(d[2], d[1])\n",
    "        R[d[0]] = a\n",
    "    R = json.dumps(R, ensure_ascii=False, indent=4)\n",
    "    fw.write(R)\n",
    "    fw.close()"
   ]
  },
  {
   "cell_type": "markdown",
   "metadata": {
    "colab_type": "text",
    "id": "c4ceYNdp83Uz"
   },
   "source": [
    "#12) Official Evaluation Function"
   ]
  },
  {
   "cell_type": "code",
   "execution_count": 25,
   "metadata": {
    "colab": {},
    "colab_type": "code",
    "executionInfo": {
     "elapsed": 988,
     "status": "ok",
     "timestamp": 1599334801721,
     "user": {
      "displayName": "Nelson LIN",
      "photoUrl": "https://lh3.googleusercontent.com/a-/AOh14GgrEZmWMjk_h9SZRyH_-oJW-4yrQ19ywOKCx8EA=s64",
      "userId": "03694478629413699942"
     },
     "user_tz": -480
    },
    "id": "DkKAIfoTe6hN"
   },
   "outputs": [],
   "source": [
    "import sys\n",
    "import io\n",
    "import json\n",
    "sys.path.append(data_dir)\n",
    "import evaluate as evaluate_utils #### official evaluation function\n",
    "from collections import OrderedDict"
   ]
  },
  {
   "cell_type": "code",
   "execution_count": 26,
   "metadata": {
    "colab": {},
    "colab_type": "code",
    "executionInfo": {
     "elapsed": 691,
     "status": "ok",
     "timestamp": 1599334811965,
     "user": {
      "displayName": "Nelson LIN",
      "photoUrl": "https://lh3.googleusercontent.com/a-/AOh14GgrEZmWMjk_h9SZRyH_-oJW-4yrQ19ywOKCx8EA=s64",
      "userId": "03694478629413699942"
     },
     "user_tz": -480
    },
    "id": "jFqk83lnotga"
   },
   "outputs": [],
   "source": [
    "def evaluate(pred_file,pred_result_file):\n",
    "\n",
    "    predict_to_file(pred_file,pred_result_file)\n",
    "\n",
    "    dataset_json = json.load(io.open(pred_file))\n",
    "    dataset = dataset_json['data']\n",
    "    preds = json.load(io.open(pred_result_file))\n",
    "\n",
    "    exact_raw, f1_raw = evaluate_utils.get_raw_scores(dataset, preds)\n",
    "\n",
    "    output_result = evaluate_utils.make_eval_dict(exact_raw, f1_raw)\n",
    "\n",
    "    return output_result"
   ]
  },
  {
   "cell_type": "code",
   "execution_count": 27,
   "metadata": {
    "colab": {},
    "colab_type": "code",
    "executionInfo": {
     "elapsed": 644,
     "status": "ok",
     "timestamp": 1599334814131,
     "user": {
      "displayName": "Nelson LIN",
      "photoUrl": "https://lh3.googleusercontent.com/a-/AOh14GgrEZmWMjk_h9SZRyH_-oJW-4yrQ19ywOKCx8EA=s64",
      "userId": "03694478629413699942"
     },
     "user_tz": -480
    },
    "id": "01Bnes5evKof"
   },
   "outputs": [],
   "source": [
    "pred_file = data_dir+'/dev-v2.0.json'"
   ]
  },
  {
   "cell_type": "code",
   "execution_count": 28,
   "metadata": {
    "colab": {},
    "colab_type": "code",
    "executionInfo": {
     "elapsed": 673,
     "status": "ok",
     "timestamp": 1599334815407,
     "user": {
      "displayName": "Nelson LIN",
      "photoUrl": "https://lh3.googleusercontent.com/a-/AOh14GgrEZmWMjk_h9SZRyH_-oJW-4yrQ19ywOKCx8EA=s64",
      "userId": "03694478629413699942"
     },
     "user_tz": -480
    },
    "id": "HUrNUkoivLK8"
   },
   "outputs": [],
   "source": [
    "pred_result_file = output_dir+'dev-v2.0-pred.json'"
   ]
  },
  {
   "cell_type": "code",
   "execution_count": 29,
   "metadata": {
    "colab": {},
    "colab_type": "code",
    "executionInfo": {
     "elapsed": 692,
     "status": "ok",
     "timestamp": 1599334843376,
     "user": {
      "displayName": "Nelson LIN",
      "photoUrl": "https://lh3.googleusercontent.com/a-/AOh14GgrEZmWMjk_h9SZRyH_-oJW-4yrQ19ywOKCx8EA=s64",
      "userId": "03694478629413699942"
     },
     "user_tz": -480
    },
    "id": "wNrSRL0i83Uz"
   },
   "outputs": [],
   "source": [
    "class Evaluator(keras.callbacks.Callback):\n",
    "    \"\"\"\n",
    "    评估和保存模型\n",
    "    \"\"\"\n",
    "    def __init__(self):\n",
    "        self.best_val_f1 = 0.\n",
    "\n",
    "    def on_epoch_end(self, epoch, logs=None):\n",
    "        metrics = evaluate(data_dir+'/dev-v2.0.json',output_dir+'dev-v2.0-pred.json'\n",
    "        )\n",
    "        if float(metrics['f1']) >= self.best_val_f1:\n",
    "            self.best_val_f1 = float(metrics['f1'])\n",
    "            model.save_weights(os.path.join(output_dir,'bert_best_model.weights'))\n",
    "            model.save(os.path.join(output_dir,'bert_best_model.h5'))\n",
    "        metrics['BEST_F1'] = self.best_val_f1\n",
    "        print(metrics)"
   ]
  },
  {
   "cell_type": "markdown",
   "metadata": {
    "colab_type": "text",
    "id": "Rivf9wn883U1"
   },
   "source": [
    "# 13） Access Data"
   ]
  },
  {
   "cell_type": "code",
   "execution_count": 30,
   "metadata": {
    "colab": {},
    "colab_type": "code",
    "executionInfo": {
     "elapsed": 633,
     "status": "ok",
     "timestamp": 1599334861869,
     "user": {
      "displayName": "Nelson LIN",
      "photoUrl": "https://lh3.googleusercontent.com/a-/AOh14GgrEZmWMjk_h9SZRyH_-oJW-4yrQ19ywOKCx8EA=s64",
      "userId": "03694478629413699942"
     },
     "user_tz": -480
    },
    "id": "z_cSRxhH83U2"
   },
   "outputs": [],
   "source": [
    "train_generator = data_generator(train_data, batch_size)\n",
    "evaluator = Evaluator()"
   ]
  },
  {
   "cell_type": "markdown",
   "metadata": {
    "colab_type": "text",
    "id": "kJi3sNmT83U4"
   },
   "source": [
    "# 14) Model Training"
   ]
  },
  {
   "cell_type": "code",
   "execution_count": 31,
   "metadata": {
    "colab": {
     "base_uri": "https://localhost:8080/",
     "height": 432
    },
    "colab_type": "code",
    "executionInfo": {
     "elapsed": 721998,
     "status": "ok",
     "timestamp": 1599335600310,
     "user": {
      "displayName": "Nelson LIN",
      "photoUrl": "https://lh3.googleusercontent.com/a-/AOh14GgrEZmWMjk_h9SZRyH_-oJW-4yrQ19ywOKCx8EA=s64",
      "userId": "03694478629413699942"
     },
     "user_tz": -480
    },
    "id": "VlHXytC583U4",
    "outputId": "38101718-e896-427b-c7a6-649484c40f7b",
    "scrolled": true
   },
   "outputs": [
    {
     "name": "stdout",
     "output_type": "stream",
     "text": [
      "WARNING:tensorflow:From <ipython-input-31-fe346652398c>:6: Model.fit_generator (from tensorflow.python.keras.engine.training) is deprecated and will be removed in a future version.\n",
      "Instructions for updating:\n",
      "Please use Model.fit, which supports generators.\n",
      "Epoch 1/5\n",
      "125/125 [==============================] - ETA: 0s - loss: 3.9234 - sparse_accuracy: 0.1270"
     ]
    },
    {
     "name": "stderr",
     "output_type": "stream",
     "text": [
      "100%|██████████| 500/500 [00:44<00:00, 11.21it/s]\n"
     ]
    },
    {
     "name": "stdout",
     "output_type": "stream",
     "text": [
      "OrderedDict([('exact', 17.8), ('f1', 29.33055888555891), ('total', 500), ('BEST_F1', 29.33055888555891)])\n",
      "\b\b\b\b\b\b\b\b\b\b\b\b\b\b\b\b\b\b\b\b\b\b\b\b\b\b\b\b\b\b\b\b\b\b\b\b\b\b\b\b\b\b\b\b\b\b\b\b\b\b\b\b\b\b\b\b\b\b\b\b\b\b\b\b\b\b\b\b\b\b\b\b\b\b\b\b\b\b\b\b\b\b\b\b\b\b\b\b\b\b\b\r",
      "125/125 [==============================] - 173s 1s/step - loss: 3.9234 - sparse_accuracy: 0.1270\n",
      "Epoch 2/5\n",
      "125/125 [==============================] - ETA: 0s - loss: 1.9043 - sparse_accuracy: 0.5070"
     ]
    },
    {
     "name": "stderr",
     "output_type": "stream",
     "text": [
      "100%|██████████| 500/500 [00:37<00:00, 13.39it/s]\n"
     ]
    },
    {
     "name": "stdout",
     "output_type": "stream",
     "text": [
      "OrderedDict([('exact', 32.6), ('f1', 46.401011607931125), ('total', 500), ('BEST_F1', 46.401011607931125)])\n",
      "\b\b\b\b\b\b\b\b\b\b\b\b\b\b\b\b\b\b\b\b\b\b\b\b\b\b\b\b\b\b\b\b\b\b\b\b\b\b\b\b\b\b\b\b\b\b\b\b\b\b\b\b\b\b\b\b\b\b\b\b\b\b\b\b\b\b\b\b\b\b\b\b\b\b\b\b\b\b\b\b\b\b\b\b\b\b\b\b\b\b\b\r",
      "125/125 [==============================] - 144s 1s/step - loss: 1.9043 - sparse_accuracy: 0.5070\n",
      "Epoch 3/5\n",
      "125/125 [==============================] - ETA: 0s - loss: 0.9575 - sparse_accuracy: 0.7260"
     ]
    },
    {
     "name": "stderr",
     "output_type": "stream",
     "text": [
      "100%|██████████| 500/500 [00:37<00:00, 13.24it/s]\n"
     ]
    },
    {
     "name": "stdout",
     "output_type": "stream",
     "text": [
      "OrderedDict([('exact', 37.0), ('f1', 50.3438655788656), ('total', 500), ('BEST_F1', 50.3438655788656)])\n",
      "\b\b\b\b\b\b\b\b\b\b\b\b\b\b\b\b\b\b\b\b\b\b\b\b\b\b\b\b\b\b\b\b\b\b\b\b\b\b\b\b\b\b\b\b\b\b\b\b\b\b\b\b\b\b\b\b\b\b\b\b\b\b\b\b\b\b\b\b\b\b\b\b\b\b\b\b\b\b\b\b\b\b\b\b\b\b\b\b\b\b\b\r",
      "125/125 [==============================] - 143s 1s/step - loss: 0.9575 - sparse_accuracy: 0.7260\n",
      "Epoch 4/5\n",
      "125/125 [==============================] - ETA: 0s - loss: 0.5071 - sparse_accuracy: 0.8500"
     ]
    },
    {
     "name": "stderr",
     "output_type": "stream",
     "text": [
      "100%|██████████| 500/500 [00:43<00:00, 11.38it/s]\n"
     ]
    },
    {
     "name": "stdout",
     "output_type": "stream",
     "text": [
      "OrderedDict([('exact', 35.6), ('f1', 50.31433204050852), ('total', 500), ('BEST_F1', 50.3438655788656)])\n",
      "\b\b\b\b\b\b\b\b\b\b\b\b\b\b\b\b\b\b\b\b\b\b\b\b\b\b\b\b\b\b\b\b\b\b\b\b\b\b\b\b\b\b\b\b\b\b\b\b\b\b\b\b\b\b\b\b\b\b\b\b\b\b\b\b\b\b\b\b\b\b\b\b\b\b\b\b\b\b\b\b\b\b\b\b\b\b\b\b\b\b\b\r",
      "125/125 [==============================] - 107s 856ms/step - loss: 0.5071 - sparse_accuracy: 0.8500\n",
      "Epoch 5/5\n",
      "125/125 [==============================] - ETA: 0s - loss: 0.3478 - sparse_accuracy: 0.9040"
     ]
    },
    {
     "name": "stderr",
     "output_type": "stream",
     "text": [
      "100%|██████████| 500/500 [00:37<00:00, 13.24it/s]\n"
     ]
    },
    {
     "name": "stdout",
     "output_type": "stream",
     "text": [
      "OrderedDict([('exact', 38.4), ('f1', 52.637186963363455), ('total', 500), ('BEST_F1', 52.637186963363455)])\n",
      "\b\b\b\b\b\b\b\b\b\b\b\b\b\b\b\b\b\b\b\b\b\b\b\b\b\b\b\b\b\b\b\b\b\b\b\b\b\b\b\b\b\b\b\b\b\b\b\b\b\b\b\b\b\b\b\b\b\b\b\b\b\b\b\b\b\b\b\b\b\b\b\b\b\b\b\b\b\b\b\b\b\b\b\b\b\b\b\b\b\b\b\r",
      "125/125 [==============================] - 138s 1s/step - loss: 0.3478 - sparse_accuracy: 0.9040\n"
     ]
    },
    {
     "data": {
      "text/plain": [
       "<tensorflow.python.keras.callbacks.History at 0x7f41d4716eb8>"
      ]
     },
     "execution_count": 31,
     "metadata": {
      "tags": []
     },
     "output_type": "execute_result"
    }
   ],
   "source": [
    "epochs=5\n",
    "model.fit_generator(\n",
    "    train_generator.forfit(),\n",
    "    steps_per_epoch=len(train_generator),\n",
    "    epochs=epochs,\n",
    "    callbacks=[evaluator]\n",
    ")"
   ]
  },
  {
   "cell_type": "markdown",
   "metadata": {
    "colab_type": "text",
    "id": "RjVWAQBF83U6"
   },
   "source": [
    "# 15) Load The Best Model"
   ]
  },
  {
   "cell_type": "code",
   "execution_count": 32,
   "metadata": {
    "colab": {},
    "colab_type": "code",
    "executionInfo": {
     "elapsed": 6086,
     "status": "ok",
     "timestamp": 1599335618973,
     "user": {
      "displayName": "Nelson LIN",
      "photoUrl": "https://lh3.googleusercontent.com/a-/AOh14GgrEZmWMjk_h9SZRyH_-oJW-4yrQ19ywOKCx8EA=s64",
      "userId": "03694478629413699942"
     },
     "user_tz": -480
    },
    "id": "N9nOPUziNhBT"
   },
   "outputs": [],
   "source": [
    "from keras.models import load_model\n",
    "model=load_model(os.path.join(output_dir,'bert_best_model.h5'),custom_objects={'MaskedSoftmax':MaskedSoftmax,'sparse_accuracy':sparse_accuracy})"
   ]
  },
  {
   "cell_type": "markdown",
   "metadata": {
    "colab_type": "text",
    "id": "u_e197rD1QUH"
   },
   "source": [
    "# 16） Sample Data Testing: Articel Question Answering "
   ]
  },
  {
   "cell_type": "code",
   "execution_count": 34,
   "metadata": {
    "colab": {},
    "colab_type": "code",
    "executionInfo": {
     "elapsed": 777,
     "status": "ok",
     "timestamp": 1599335688398,
     "user": {
      "displayName": "Nelson LIN",
      "photoUrl": "https://lh3.googleusercontent.com/a-/AOh14GgrEZmWMjk_h9SZRyH_-oJW-4yrQ19ywOKCx8EA=s64",
      "userId": "03694478629413699942"
     },
     "user_tz": -480
    },
    "id": "UO_bekWoidr4"
   },
   "outputs": [],
   "source": [
    "test_data = dev_data[8]"
   ]
  },
  {
   "cell_type": "code",
   "execution_count": 35,
   "metadata": {
    "colab": {},
    "colab_type": "code",
    "executionInfo": {
     "elapsed": 644,
     "status": "ok",
     "timestamp": 1599335689846,
     "user": {
      "displayName": "Nelson LIN",
      "photoUrl": "https://lh3.googleusercontent.com/a-/AOh14GgrEZmWMjk_h9SZRyH_-oJW-4yrQ19ywOKCx8EA=s64",
      "userId": "03694478629413699942"
     },
     "user_tz": -480
    },
    "id": "8YXP4QICiDT5"
   },
   "outputs": [],
   "source": [
    "context = test_data[1]"
   ]
  },
  {
   "cell_type": "code",
   "execution_count": 37,
   "metadata": {
    "colab": {},
    "colab_type": "code",
    "executionInfo": {
     "elapsed": 1594,
     "status": "ok",
     "timestamp": 1599335699221,
     "user": {
      "displayName": "Nelson LIN",
      "photoUrl": "https://lh3.googleusercontent.com/a-/AOh14GgrEZmWMjk_h9SZRyH_-oJW-4yrQ19ywOKCx8EA=s64",
      "userId": "03694478629413699942"
     },
     "user_tz": -480
    },
    "id": "iIzI827U1gUL"
   },
   "outputs": [],
   "source": [
    "question = test_data[2]"
   ]
  },
  {
   "cell_type": "code",
   "execution_count": 40,
   "metadata": {
    "colab": {},
    "colab_type": "code",
    "executionInfo": {
     "elapsed": 1530,
     "status": "ok",
     "timestamp": 1599335727855,
     "user": {
      "displayName": "Nelson LIN",
      "photoUrl": "https://lh3.googleusercontent.com/a-/AOh14GgrEZmWMjk_h9SZRyH_-oJW-4yrQ19ywOKCx8EA=s64",
      "userId": "03694478629413699942"
     },
     "user_tz": -480
    },
    "id": "fwgAkb-D1leh"
   },
   "outputs": [],
   "source": [
    "real_answer = test_data[3]"
   ]
  },
  {
   "cell_type": "code",
   "execution_count": 45,
   "metadata": {
    "colab": {},
    "colab_type": "code",
    "executionInfo": {
     "elapsed": 688,
     "status": "ok",
     "timestamp": 1599335767515,
     "user": {
      "displayName": "Nelson LIN",
      "photoUrl": "https://lh3.googleusercontent.com/a-/AOh14GgrEZmWMjk_h9SZRyH_-oJW-4yrQ19ywOKCx8EA=s64",
      "userId": "03694478629413699942"
     },
     "user_tz": -480
    },
    "id": "uWsj09WH1vae"
   },
   "outputs": [],
   "source": [
    "pred_answer = extract_answer(question,context)"
   ]
  },
  {
   "cell_type": "code",
   "execution_count": 46,
   "metadata": {
    "colab": {
     "base_uri": "https://localhost:8080/",
     "height": 104
    },
    "colab_type": "code",
    "executionInfo": {
     "elapsed": 455,
     "status": "ok",
     "timestamp": 1599335768596,
     "user": {
      "displayName": "Nelson LIN",
      "photoUrl": "https://lh3.googleusercontent.com/a-/AOh14GgrEZmWMjk_h9SZRyH_-oJW-4yrQ19ywOKCx8EA=s64",
      "userId": "03694478629413699942"
     },
     "user_tz": -480
    },
    "id": "Iprt2WJfi3Du",
    "outputId": "5889c4e8-2298-43ff-aedd-7d6e6c83d5f2"
   },
   "outputs": [
    {
     "data": {
      "application/vnd.google.colaboratory.intrinsic+json": {
       "type": "string"
      },
      "text/plain": [
       "'Described as being \"sexy, seductive and provocative\" when performing on stage, Beyoncé has said that she originally created the alter ego \"Sasha Fierce\" to keep that stage persona separate from who she really is. She described Sasha as being \"too aggressive, too strong, too sassy [and] too sexy\", stating, \"I\\'m not like her in real life at all.\" Sasha was conceived during the making of \"Crazy in Love\", and Beyoncé introduced her with the release of her 2008 album I Am... Sasha Fierce. In February 2010, she announced in an interview with Allure magazine that she was comfortable enough with herself to no longer need Sasha Fierce. However, Beyoncé announced in May 2012 that she would bring her back for her Revel Presents: Beyoncé Live shows later that month.'"
      ]
     },
     "execution_count": 46,
     "metadata": {
      "tags": []
     },
     "output_type": "execute_result"
    }
   ],
   "source": [
    "context"
   ]
  },
  {
   "cell_type": "code",
   "execution_count": 47,
   "metadata": {
    "colab": {
     "base_uri": "https://localhost:8080/",
     "height": 35
    },
    "colab_type": "code",
    "executionInfo": {
     "elapsed": 644,
     "status": "ok",
     "timestamp": 1599335770072,
     "user": {
      "displayName": "Nelson LIN",
      "photoUrl": "https://lh3.googleusercontent.com/a-/AOh14GgrEZmWMjk_h9SZRyH_-oJW-4yrQ19ywOKCx8EA=s64",
      "userId": "03694478629413699942"
     },
     "user_tz": -480
    },
    "id": "uBDJIWzXi8ty",
    "outputId": "c7d18984-5b18-453e-d647-858ba7a2d288"
   },
   "outputs": [
    {
     "data": {
      "application/vnd.google.colaboratory.intrinsic+json": {
       "type": "string"
      },
      "text/plain": [
       "'Beyonce brought back Sasha Fierce during which event?'"
      ]
     },
     "execution_count": 47,
     "metadata": {
      "tags": []
     },
     "output_type": "execute_result"
    }
   ],
   "source": [
    "question"
   ]
  },
  {
   "cell_type": "code",
   "execution_count": 48,
   "metadata": {
    "colab": {
     "base_uri": "https://localhost:8080/",
     "height": 35
    },
    "colab_type": "code",
    "executionInfo": {
     "elapsed": 572,
     "status": "ok",
     "timestamp": 1599335771100,
     "user": {
      "displayName": "Nelson LIN",
      "photoUrl": "https://lh3.googleusercontent.com/a-/AOh14GgrEZmWMjk_h9SZRyH_-oJW-4yrQ19ywOKCx8EA=s64",
      "userId": "03694478629413699942"
     },
     "user_tz": -480
    },
    "id": "cNRqc7tRibd-",
    "outputId": "2a65a70d-d564-439b-e857-f5146900e94c"
   },
   "outputs": [
    {
     "data": {
      "text/plain": [
       "['Revel Presents: Beyoncé Live']"
      ]
     },
     "execution_count": 48,
     "metadata": {
      "tags": []
     },
     "output_type": "execute_result"
    }
   ],
   "source": [
    "real_answer"
   ]
  },
  {
   "cell_type": "code",
   "execution_count": 49,
   "metadata": {
    "colab": {
     "base_uri": "https://localhost:8080/",
     "height": 35
    },
    "colab_type": "code",
    "executionInfo": {
     "elapsed": 672,
     "status": "ok",
     "timestamp": 1599335778741,
     "user": {
      "displayName": "Nelson LIN",
      "photoUrl": "https://lh3.googleusercontent.com/a-/AOh14GgrEZmWMjk_h9SZRyH_-oJW-4yrQ19ywOKCx8EA=s64",
      "userId": "03694478629413699942"
     },
     "user_tz": -480
    },
    "id": "XApoMSsLiUPk",
    "outputId": "b2053d9a-ad1e-4717-b381-1b36ee54c459"
   },
   "outputs": [
    {
     "data": {
      "application/vnd.google.colaboratory.intrinsic+json": {
       "type": "string"
      },
      "text/plain": [
       "'Revel Presents'"
      ]
     },
     "execution_count": 49,
     "metadata": {
      "tags": []
     },
     "output_type": "execute_result"
    }
   ],
   "source": [
    "pred_answer"
   ]
  },
  {
   "cell_type": "code",
   "execution_count": null,
   "metadata": {
    "colab": {},
    "colab_type": "code",
    "id": "78eyIPI5Nfwv"
   },
   "outputs": [],
   "source": []
  }
 ],
 "metadata": {
  "accelerator": "GPU",
  "colab": {
   "collapsed_sections": [],
   "name": "Machine Reading Comprehension English.ipynb",
   "provenance": [],
   "toc_visible": true
  },
  "kernelspec": {
   "display_name": "Python 3",
   "language": "python",
   "name": "python3"
  },
  "language_info": {
   "codemirror_mode": {
    "name": "ipython",
    "version": 3
   },
   "file_extension": ".py",
   "mimetype": "text/x-python",
   "name": "python",
   "nbconvert_exporter": "python",
   "pygments_lexer": "ipython3",
   "version": "3.8.3"
  },
  "toc": {
   "base_numbering": 1,
   "nav_menu": {},
   "number_sections": true,
   "sideBar": true,
   "skip_h1_title": false,
   "title_cell": "Table of Contents",
   "title_sidebar": "Contents",
   "toc_cell": false,
   "toc_position": {},
   "toc_section_display": true,
   "toc_window_display": true
  }
 },
 "nbformat": 4,
 "nbformat_minor": 1
}
