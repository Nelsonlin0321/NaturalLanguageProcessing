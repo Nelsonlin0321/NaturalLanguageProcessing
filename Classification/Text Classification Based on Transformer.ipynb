{
 "cells": [
  {
   "cell_type": "markdown",
   "metadata": {
    "colab_type": "text",
    "id": "1Z9gfiZmbfWD"
   },
   "source": [
    "# Text Classification Based on Transformer Block"
   ]
  },
  {
   "cell_type": "code",
   "execution_count": 1,
   "metadata": {
    "colab": {},
    "colab_type": "code",
    "id": "4CvArUrCZM5N"
   },
   "outputs": [],
   "source": [
    "import tensorflow as tf\n",
    "import tensorflow.keras as keras\n",
    "import numpy as np\n",
    "import matplotlib.pyplot as plt\n",
    "import time"
   ]
  },
  {
   "cell_type": "markdown",
   "metadata": {
    "colab_type": "text",
    "id": "oP58iEeZbfWM"
   },
   "source": [
    "## 1）Read Data"
   ]
  },
  {
   "cell_type": "code",
   "execution_count": 2,
   "metadata": {
    "colab": {},
    "colab_type": "code",
    "id": "HcoZ7uZKZM5T"
   },
   "outputs": [],
   "source": [
    "vocab_size = 20000  # Only consider the top 20k words\n",
    "maxlen = 200  # Only consider the first 200 words of each movie review\n",
    "(x_train, y_train), (x_val, y_val) = keras.datasets.imdb.load_data(num_words=vocab_size,skip_top=1,maxlen=maxlen)"
   ]
  },
  {
   "cell_type": "code",
   "execution_count": 3,
   "metadata": {
    "colab": {},
    "colab_type": "code",
    "id": "TJadXQfSZM5W"
   },
   "outputs": [],
   "source": [
    "word_index = keras.datasets.imdb.get_word_index()"
   ]
  },
  {
   "cell_type": "code",
   "execution_count": 4,
   "metadata": {
    "colab": {},
    "colab_type": "code",
    "id": "Ivd_TnRQZM5a"
   },
   "outputs": [],
   "source": [
    "index_word = {index:word for (word,index) in word_index.items()}"
   ]
  },
  {
   "cell_type": "code",
   "execution_count": 5,
   "metadata": {
    "colab": {},
    "colab_type": "code",
    "id": "-AAVWsPOZM5e"
   },
   "outputs": [],
   "source": [
    "def index_to_word(indexs):\n",
    "    words = \" \".join([index_word[index] for index in indexs])\n",
    "    return words\n"
   ]
  },
  {
   "cell_type": "code",
   "execution_count": 6,
   "metadata": {
    "colab": {
     "base_uri": "https://localhost:8080/",
     "height": 199
    },
    "colab_type": "code",
    "id": "zxBFjxKtZM5g",
    "outputId": "30b0377d-94f6-4004-c00f-1a65922745f1"
   },
   "outputs": [
    {
     "name": "stdout",
     "output_type": "stream",
     "text": [
      "Text # 1\n",
      "the thought solid thought senator do making to is spot nomination assumed while he of jack in where picked as getting on was did hands fact characters to always life thrillers not as me can't in at are br of sure your way of little it strongly random to view of love it so principles of guy it used producer of where it of here icon film of outside to don't all unique some like of direction it if out her imagination below keep of queen he diverse to makes this stretch stefan of solid it thought begins br senator machinations budget worthwhile though ok brokedown awaiting for ever better were and diverse for budget look kicked any to of making it out and follows for effects show to show cast this family us scenes more it severe making senator to and finds tv tend to of emerged these thing wants but and an beckinsale cult as it is video do you david see scenery it in few those are of ship for with of wild to one is very work dark they don't do dvd with those them\n",
      "\n",
      "Text # 2\n",
      "the as there in at by br of sure many br of proving no only women was than doesn't as you never of hat night that with ignored they bad out superman plays of how star so stories film comes defense date of wide they don't do that had with of hollywood br of my seeing fan this of pop out body shots in having because cause it's stick passing first were enjoys for from look seven sense from me and die in character as cuban issues but is you that isn't one song just is him less are strongly not are you that different just even by this of you there is eight when it part are film's love film's 80's was big also light don't and as it in character looked cinematography so stories is far br man acting\n",
      "\n",
      "Text # 3\n",
      "the sure themes br only acting i i was favourite as on she they hat but already most was scares minor if flash was well also good 8 older was with enjoy used enjoy phone too i'm of you an job br only women than robot to was with these unexpected sure little sure guy sure on was one your life was children in particularly only yes she sort is jerry but so stories them final known to have does such most that supposed imagination very moving antonioni only yes this was seconds for imagination on this of and to plays that nights to for supposed still been last fan always your bit that strong said clean knowing br theory to car masterpiece out in also show for film's was tale have flash but look part i'm film as to penelope is script hard br only acting\n",
      "\n"
     ]
    }
   ],
   "source": [
    "# Inspecting some of the text\n",
    "for i in range(3):\n",
    "    print(\"Text #\",i+1)\n",
    "    print(index_to_word(x_train[i]))\n",
    "    print()"
   ]
  },
  {
   "cell_type": "markdown",
   "metadata": {
    "colab_type": "text",
    "id": "JBb8eg_AbfXL"
   },
   "source": [
    "## 2) Text Preprocessing"
   ]
  },
  {
   "cell_type": "markdown",
   "metadata": {
    "colab_type": "text",
    "id": "hJwd94FUbfXM"
   },
   "source": [
    "#### 1) Padding"
   ]
  },
  {
   "cell_type": "code",
   "execution_count": 7,
   "metadata": {
    "colab": {
     "base_uri": "https://localhost:8080/",
     "height": 143
    },
    "colab_type": "code",
    "id": "nqarrokSZM5o",
    "outputId": "c9ec0f74-023d-441a-87ce-1cd74c1a6a23"
   },
   "outputs": [
    {
     "data": {
      "text/plain": [
       "array([[   1,  194, 1153, ...,    0,    0,    0],\n",
       "       [   1,   14,   47, ...,    0,    0,    0],\n",
       "       [   1,  249, 1323, ...,    0,    0,    0],\n",
       "       ...,\n",
       "       [   1,  118, 2362, ...,    0,    0,    0],\n",
       "       [   1,    6,  682, ...,    0,    0,    0],\n",
       "       [   1,   13, 2684, ...,    0,    0,    0]])"
      ]
     },
     "execution_count": 7,
     "metadata": {},
     "output_type": "execute_result"
    }
   ],
   "source": [
    "tf.keras.preprocessing.sequence.pad_sequences(x_train,padding='post',maxlen=maxlen)"
   ]
  },
  {
   "cell_type": "code",
   "execution_count": 8,
   "metadata": {
    "colab": {},
    "colab_type": "code",
    "id": "eEr8o_28bfZy"
   },
   "outputs": [],
   "source": [
    "def get_max_length(tensor):\n",
    "    return max(len(t) for t in tensor)\n",
    "\n",
    "def padding(tensor):\n",
    "\n",
    "    tensor = tf.keras.preprocessing.sequence.pad_sequences(tensor,padding='post',maxlen=maxlen)\n",
    "    \n",
    "    tensor = tf.convert_to_tensor(tensor)\n",
    "    return tensor"
   ]
  },
  {
   "cell_type": "code",
   "execution_count": 9,
   "metadata": {
    "colab": {},
    "colab_type": "code",
    "id": "Ty0n2zHXZM51"
   },
   "outputs": [],
   "source": [
    "input_tensor_train = padding(x_train)\n",
    "\n",
    "output_tensor_train = tf.convert_to_tensor(y_train,dtype=tf.float32)"
   ]
  },
  {
   "cell_type": "code",
   "execution_count": 10,
   "metadata": {
    "colab": {
     "base_uri": "https://localhost:8080/",
     "height": 35
    },
    "colab_type": "code",
    "id": "zifGA6x5ZM54",
    "outputId": "016f50a4-2c24-48a7-d3be-7099b57e0149"
   },
   "outputs": [
    {
     "data": {
      "text/plain": [
       "(TensorShape([25000, 200]), TensorShape([25000]))"
      ]
     },
     "execution_count": 10,
     "metadata": {},
     "output_type": "execute_result"
    }
   ],
   "source": [
    "input_tensor_train.shape,output_tensor_train.shape"
   ]
  },
  {
   "cell_type": "code",
   "execution_count": 11,
   "metadata": {
    "colab": {},
    "colab_type": "code",
    "id": "TByqgxoOZM57"
   },
   "outputs": [],
   "source": [
    "\n",
    "input_tensor_val = padding(x_val)\n",
    "output_tensor_val = tf.convert_to_tensor(y_val,dtype=tf.float32)"
   ]
  },
  {
   "cell_type": "code",
   "execution_count": 12,
   "metadata": {
    "colab": {
     "base_uri": "https://localhost:8080/",
     "height": 35
    },
    "colab_type": "code",
    "id": "twRq7P7yZM6A",
    "outputId": "89baaac5-29a4-4ebd-9f3b-a8021124c8b9"
   },
   "outputs": [
    {
     "data": {
      "text/plain": [
       "(TensorShape([3913, 200]), TensorShape([3913]))"
      ]
     },
     "execution_count": 12,
     "metadata": {},
     "output_type": "execute_result"
    }
   ],
   "source": [
    "input_tensor_val.shape,output_tensor_val.shape"
   ]
  },
  {
   "cell_type": "markdown",
   "metadata": {
    "colab_type": "text",
    "id": "rk9RGI3ebfa3"
   },
   "source": [
    "#### 2) DataSet Creating"
   ]
  },
  {
   "cell_type": "code",
   "execution_count": 13,
   "metadata": {
    "colab": {
     "base_uri": "https://localhost:8080/",
     "height": 0
    },
    "colab_type": "code",
    "id": "m1KiH7Bmbfa4",
    "outputId": "52ece551-dfe7-4c96-b479-608ee490512b"
   },
   "outputs": [
    {
     "data": {
      "text/plain": [
       "(TensorShape([64, 200]), TensorShape([64]))"
      ]
     },
     "execution_count": 13,
     "metadata": {},
     "output_type": "execute_result"
    }
   ],
   "source": [
    "BUFFER_SIZE = len(x_train)\n",
    "BATCH_SIZE = 64\n",
    "\n",
    "dataset = tf.data.Dataset.from_tensor_slices((input_tensor_train, output_tensor_train)).shuffle(BUFFER_SIZE)\n",
    "dataset = dataset.batch(BATCH_SIZE, drop_remainder=True)\n",
    "\n",
    "example_input_batch, example_target_batch = next(iter(dataset))\n",
    "example_input_batch.shape, example_target_batch.shape"
   ]
  },
  {
   "cell_type": "code",
   "execution_count": 14,
   "metadata": {
    "colab": {
     "base_uri": "https://localhost:8080/",
     "height": 0
    },
    "colab_type": "code",
    "id": "QACG-ARxbfbG",
    "outputId": "9a6227b6-19ec-491d-bbc7-ed8c83ba9e0b"
   },
   "outputs": [
    {
     "data": {
      "text/plain": [
       "<tf.Tensor: id=20, shape=(64, 200), dtype=int32, numpy=\n",
       "array([[    1,     7,    32, ...,     0,     0,     0],\n",
       "       [    1,    54,    13, ...,     0,     0,     0],\n",
       "       [    1,   767, 18338, ...,     0,     0,     0],\n",
       "       ...,\n",
       "       [    1,    13,   244, ...,     0,     0,     0],\n",
       "       [    1,     4,   116, ...,     0,     0,     0],\n",
       "       [    1,    61,  1633, ...,     0,     0,     0]])>"
      ]
     },
     "execution_count": 14,
     "metadata": {},
     "output_type": "execute_result"
    }
   ],
   "source": [
    "example_input_batch"
   ]
  },
  {
   "cell_type": "code",
   "execution_count": 15,
   "metadata": {
    "colab": {
     "base_uri": "https://localhost:8080/",
     "height": 0
    },
    "colab_type": "code",
    "id": "Q7rKhV6zZM6J",
    "outputId": "d90a356c-8f6a-4533-ae90-cae5dcf42bb1"
   },
   "outputs": [
    {
     "data": {
      "text/plain": [
       "<tf.Tensor: id=21, shape=(64,), dtype=float32, numpy=\n",
       "array([1., 0., 1., 0., 0., 0., 1., 0., 1., 1., 0., 0., 0., 0., 1., 1., 0.,\n",
       "       1., 1., 1., 1., 1., 0., 0., 0., 1., 1., 0., 1., 0., 1., 1., 1., 1.,\n",
       "       0., 0., 0., 0., 0., 0., 1., 0., 0., 1., 1., 0., 1., 0., 1., 0., 0.,\n",
       "       0., 1., 1., 0., 0., 1., 1., 0., 1., 1., 0., 1., 1.], dtype=float32)>"
      ]
     },
     "execution_count": 15,
     "metadata": {},
     "output_type": "execute_result"
    }
   ],
   "source": [
    "example_target_batch"
   ]
  },
  {
   "cell_type": "markdown",
   "metadata": {
    "colab_type": "text",
    "id": "42vixHDdbfbN"
   },
   "source": [
    "## 3) Transformer"
   ]
  },
  {
   "cell_type": "markdown",
   "metadata": {
    "colab_type": "text",
    "id": "gVfcGawVZM6N"
   },
   "source": [
    "<img src=\"https://tensorflow.google.cn/images/tutorials/transformer/transformer.png\" width=\"600\" alt=\"transformer\">"
   ]
  },
  {
   "cell_type": "markdown",
   "metadata": {
    "colab_type": "text",
    "id": "2JBE-sQCbfbO"
   },
   "source": [
    "##### (1 )Embedding and Positional encoding  Layers"
   ]
  },
  {
   "cell_type": "markdown",
   "metadata": {
    "colab_type": "text",
    "id": "8oN1xOM-ZM6P"
   },
   "source": [
    "$$\\Large{PE_{(pos, 2i)} = sin(pos / 10000^{2i / d_{model}})} $$\n",
    "$$\\Large{PE_{(pos, 2i+1)} = cos(pos / 10000^{2i / d_{model}})} $$"
   ]
  },
  {
   "cell_type": "code",
   "execution_count": 16,
   "metadata": {
    "colab": {},
    "colab_type": "code",
    "id": "sQ_EBGdcbfbQ"
   },
   "outputs": [],
   "source": [
    "def get_angles(pos, i, d_model):\n",
    "    angle_rates = 1 / np.power(10000, (2 * (i//2)) / np.float32(d_model))\n",
    "    return pos * angle_rates"
   ]
  },
  {
   "cell_type": "code",
   "execution_count": 17,
   "metadata": {
    "colab": {},
    "colab_type": "code",
    "id": "9dwyJ0aubfba"
   },
   "outputs": [],
   "source": [
    "def positional_encoding(position, d_model):\n",
    "    angle_rads = get_angles(np.arange(position)[:, np.newaxis],\n",
    "                          np.arange(d_model)[np.newaxis, :],\n",
    "                          d_model)\n",
    "\n",
    "    # 将 sin 应用于数组中的偶数索引（indices）；2i\n",
    "    angle_rads[:, 0::2] = np.sin(angle_rads[:, 0::2])\n",
    "\n",
    "    # 将 cos 应用于数组中的奇数索引；2i+1\n",
    "    angle_rads[:, 1::2] = np.cos(angle_rads[:, 1::2])\n",
    "\n",
    "    pos_encoding = angle_rads[np.newaxis, ...]\n",
    "\n",
    "    return tf.cast(pos_encoding, dtype=tf.float32)"
   ]
  },
  {
   "cell_type": "code",
   "execution_count": 18,
   "metadata": {
    "colab": {},
    "colab_type": "code",
    "id": "iLdsyQKvZM6V"
   },
   "outputs": [],
   "source": [
    "class EmbeddingAndPosEncoder(tf.keras.layers.Layer):\n",
    "    def __init__(self,vocab_size,d_model):\n",
    "        super(EmbeddingAndPosEncoder,self).__init__()\n",
    "        self.d_model = d_model\n",
    "        self.embedding = tf.keras.layers.Embedding(input_dim=vocab_size,output_dim=d_model)\n",
    "        \n",
    "    def call(self,x):\n",
    "        x = self.embedding(x)\n",
    "        seq_length = x.shape[1]\n",
    "        x *= tf.math.sqrt(tf.cast(self.d_model, tf.float32))\n",
    "        posencode_out = positional_encoding(seq_length,self.d_model)\n",
    "        out = x+posencode_out\n",
    "        return out "
   ]
  },
  {
   "cell_type": "code",
   "execution_count": 19,
   "metadata": {
    "colab": {},
    "colab_type": "code",
    "id": "SeUc9PCgZM6Y"
   },
   "outputs": [],
   "source": [
    "embedding_dim = 512"
   ]
  },
  {
   "cell_type": "code",
   "execution_count": 20,
   "metadata": {
    "colab": {},
    "colab_type": "code",
    "id": "zCKxYUPuZM6a"
   },
   "outputs": [],
   "source": [
    "EmbedAndPosEncoderLayer = EmbeddingAndPosEncoder(vocab_size=vocab_size,d_model=embedding_dim)"
   ]
  },
  {
   "cell_type": "code",
   "execution_count": 21,
   "metadata": {
    "colab": {},
    "colab_type": "code",
    "id": "oEtcRBaqZM6d"
   },
   "outputs": [],
   "source": [
    "embedding_out = EmbedAndPosEncoderLayer(example_input_batch)"
   ]
  },
  {
   "cell_type": "code",
   "execution_count": 22,
   "metadata": {
    "colab": {
     "base_uri": "https://localhost:8080/",
     "height": 35
    },
    "colab_type": "code",
    "id": "5JdBi8-YZM6j",
    "outputId": "f09659a4-8f64-4520-df02-34f4638f7322"
   },
   "outputs": [
    {
     "data": {
      "text/plain": [
       "TensorShape([64, 200, 512])"
      ]
     },
     "execution_count": 22,
     "metadata": {},
     "output_type": "execute_result"
    }
   ],
   "source": [
    "embedding_out.shape"
   ]
  },
  {
   "cell_type": "markdown",
   "metadata": {
    "colab_type": "text",
    "id": "WsMwZbFaZM6n"
   },
   "source": [
    "##### (2 ) Multi-Head Attention Layers"
   ]
  },
  {
   "cell_type": "markdown",
   "metadata": {
    "colab_type": "text",
    "id": "l_Fp9Aq9ZM6n"
   },
   "source": [
    "<img src=\"https://tensorflow.google.cn/images/tutorials/transformer/scaled_attention.png\" width=\"500\" alt=\"scaled_dot_product_attention\">"
   ]
  },
  {
   "cell_type": "markdown",
   "metadata": {
    "colab_type": "text",
    "id": "VzxJzDdvZM6o"
   },
   "source": [
    "$$\\Large{Attention(Q, K, V) = softmax_k(\\frac{QK^T}{\\sqrt{d_k}}) V} $$"
   ]
  },
  {
   "cell_type": "code",
   "execution_count": 23,
   "metadata": {
    "colab": {},
    "colab_type": "code",
    "id": "Xi0_urEhbfb-"
   },
   "outputs": [],
   "source": [
    "def scaled_dot_product_attention(q, k, v):\n",
    "\n",
    "    matmul_qk = tf.matmul(q, k, transpose_b=True)  # (..., seq_len_q, seq_len_k)\n",
    "\n",
    "    # 缩放 matmul_qk\n",
    "    dk = tf.cast(tf.shape(k)[-1], tf.float32)\n",
    "    scaled_attention_logits = matmul_qk / tf.math.sqrt(dk)\n",
    "\n",
    "    attention_weights = tf.nn.softmax(scaled_attention_logits, axis=-1)  # (..., seq_len_q, seq_len_k)\n",
    "\n",
    "    output = tf.matmul(attention_weights, v)  # (..., seq_len_q, depth_v)\n",
    "\n",
    "    return output, attention_weights"
   ]
  },
  {
   "cell_type": "markdown",
   "metadata": {
    "colab_type": "text",
    "id": "g-HQcDjdZM6s"
   },
   "source": [
    "<img src=\"https://tensorflow.google.cn/images/tutorials/transformer/multi_head_attention.png\" width=\"500\" alt=\"multi-head attention\">"
   ]
  },
  {
   "cell_type": "code",
   "execution_count": 24,
   "metadata": {
    "colab": {},
    "colab_type": "code",
    "id": "gA0PTy7zbfcK"
   },
   "outputs": [],
   "source": [
    "class MultiHeadAttention(tf.keras.layers.Layer):\n",
    "    def __init__(self, d_model, num_heads):\n",
    "        super(MultiHeadAttention, self).__init__()\n",
    "        self.num_heads = num_heads\n",
    "        self.d_model = d_model\n",
    "\n",
    "        assert d_model % self.num_heads == 0\n",
    "\n",
    "        self.depth = d_model // self.num_heads\n",
    "\n",
    "        self.wq = tf.keras.layers.Dense(d_model)\n",
    "        self.wk = tf.keras.layers.Dense(d_model)\n",
    "        self.wv = tf.keras.layers.Dense(d_model)\n",
    "\n",
    "        self.dense = tf.keras.layers.Dense(d_model)\n",
    "\n",
    "    def split_heads(self, x, batch_size):\n",
    "\n",
    "        x = tf.reshape(x, (batch_size, -1, self.num_heads, self.depth))\n",
    "        return tf.transpose(x, perm=[0, 2, 1, 3])\n",
    "\n",
    "    def call(self, v, k, q):\n",
    "        batch_size = tf.shape(q)[0]\n",
    "\n",
    "        q = self.wq(q)  # (batch_size, seq_len, d_model)\n",
    "        k = self.wk(k)  # (batch_size, seq_len, d_model)\n",
    "        v = self.wv(v)  # (batch_size, seq_len, d_model)\n",
    "\n",
    "        q = self.split_heads(q, batch_size)  # (batch_size, num_heads, seq_len_q, depth)\n",
    "        k = self.split_heads(k, batch_size)  # (batch_size, num_heads, seq_len_k, depth)\n",
    "        v = self.split_heads(v, batch_size)  # (batch_size, num_heads, seq_len_v, depth)\n",
    "\n",
    "        # scaled_attention.shape == (batch_size, num_heads, seq_len_q, depth)\n",
    "        # attention_weights.shape == (batch_size, num_heads, seq_len_q, seq_len_k)\n",
    "        scaled_attention, attention_weights = scaled_dot_product_attention(q, k, v)\n",
    "\n",
    "        scaled_attention = tf.transpose(scaled_attention, perm=[0, 2, 1, 3])  # (batch_size, seq_len_q, num_heads, depth)\n",
    "\n",
    "        concat_attention = tf.reshape(scaled_attention, \n",
    "                                      (batch_size, -1, self.d_model))  # (batch_size, seq_len_q, d_model)\n",
    "\n",
    "        output = self.dense(concat_attention)  # (batch_size, seq_len_q, d_model)\n",
    "\n",
    "        return output, attention_weights"
   ]
  },
  {
   "cell_type": "code",
   "execution_count": 25,
   "metadata": {
    "colab": {},
    "colab_type": "code",
    "id": "xOiMHtUoZM6v"
   },
   "outputs": [],
   "source": [
    "MultiHeadAttentionLayer = MultiHeadAttention(512,8)"
   ]
  },
  {
   "cell_type": "code",
   "execution_count": 26,
   "metadata": {
    "colab": {},
    "colab_type": "code",
    "id": "lNL7F7VaZM60"
   },
   "outputs": [],
   "source": [
    "v,k,q = embedding_out,embedding_out,embedding_out"
   ]
  },
  {
   "cell_type": "code",
   "execution_count": 27,
   "metadata": {
    "colab": {},
    "colab_type": "code",
    "id": "XL0WudCwZM63"
   },
   "outputs": [],
   "source": [
    "Attention,Weights = MultiHeadAttentionLayer(v,k,q)"
   ]
  },
  {
   "cell_type": "code",
   "execution_count": 28,
   "metadata": {
    "colab": {
     "base_uri": "https://localhost:8080/",
     "height": 35
    },
    "colab_type": "code",
    "id": "hKwpJhesZM65",
    "outputId": "c1242911-aada-49f5-cd32-f14d1ac346fc"
   },
   "outputs": [
    {
     "data": {
      "text/plain": [
       "(TensorShape([64, 200, 512]), TensorShape([64, 8, 200, 200]))"
      ]
     },
     "execution_count": 28,
     "metadata": {},
     "output_type": "execute_result"
    }
   ],
   "source": [
    "Attention.shape,Weights.shape"
   ]
  },
  {
   "cell_type": "markdown",
   "metadata": {
    "colab_type": "text",
    "id": "xVixu6X3bfcQ"
   },
   "source": [
    "#### (3) Point wise feed forward and add&Norm Layer"
   ]
  },
  {
   "cell_type": "code",
   "execution_count": 29,
   "metadata": {
    "colab": {},
    "colab_type": "code",
    "id": "l6qRihqxbfcZ"
   },
   "outputs": [],
   "source": [
    "def point_wise_feed_forward_network(d_model, dff):\n",
    "    return tf.keras.Sequential([\n",
    "      tf.keras.layers.Dense(dff, activation='relu'),  # (batch_size, seq_len, dff)\n",
    "      tf.keras.layers.Dense(d_model)  # (batch_size, seq_len, d_model)\n",
    "  ])"
   ]
  },
  {
   "cell_type": "markdown",
   "metadata": {
    "colab_type": "text",
    "id": "tYondeUOZM7C"
   },
   "source": [
    "#### (4) Encoder Layers"
   ]
  },
  {
   "cell_type": "code",
   "execution_count": 30,
   "metadata": {
    "colab": {},
    "colab_type": "code",
    "id": "8xudmj5yZM7C"
   },
   "outputs": [],
   "source": [
    "class Encoder(tf.keras.layers.Layer):\n",
    "    def __init__(self,d_model,num_heads,dff,rate):\n",
    "        super(Encoder,self).__init__()\n",
    "        self.mha = MultiHeadAttention(d_model, num_heads)\n",
    "        self.dropout1 = tf.keras.layers.Dropout(rate)\n",
    "        self.ffn = point_wise_feed_forward_network(d_model,dff)\n",
    "        self.dropout2 = tf.keras.layers.Dropout(rate)\n",
    "        self.normLayer1 = tf.keras.layers.LayerNormalization(epsilon=1e-6)\n",
    "        self.normLayer2 = tf.keras.layers.LayerNormalization(epsilon=1e-6)\n",
    "        \n",
    "    def call(self,x,training):\n",
    "        ### attention\n",
    "        attn_output,attentionWeight = self.mha(x,x,x)\n",
    "        ### add&Norm\n",
    "        attn_output = self.dropout1(attn_output,training=training)\n",
    "        out1 = self.normLayer1(attn_output+x)\n",
    "        \n",
    "        out2 = self.ffn(out1)\n",
    "        out2 = self.dropout2(out2,training = training)\n",
    "        out2 = self.normLayer2(out2+out1)\n",
    "        \n",
    "        return out2,attentionWeight\n"
   ]
  },
  {
   "cell_type": "code",
   "execution_count": 31,
   "metadata": {
    "colab": {},
    "colab_type": "code",
    "id": "2OTgcyrbZM7G"
   },
   "outputs": [],
   "source": [
    "encoderLayer = Encoder(512,8,1024,0.1)"
   ]
  },
  {
   "cell_type": "code",
   "execution_count": 32,
   "metadata": {
    "colab": {},
    "colab_type": "code",
    "id": "ZurEDZNJZM7L"
   },
   "outputs": [],
   "source": [
    "sampleEncderOutput,sampleAttentionWeight = encoderLayer(tf.random.uniform([64,200,512]),True)"
   ]
  },
  {
   "cell_type": "markdown",
   "metadata": {
    "colab_type": "text",
    "id": "bh30d2zZbfc3"
   },
   "source": [
    "#### (6) Transfomer"
   ]
  },
  {
   "cell_type": "code",
   "execution_count": 33,
   "metadata": {
    "colab": {},
    "colab_type": "code",
    "id": "Dg3qsf1Zbfc4"
   },
   "outputs": [],
   "source": [
    "class Transformer(tf.keras.Model):\n",
    "    def __init__(self,vocab_size,d_model,num_layers,num_heads,dff,rate,final_hidden_units,num_classes):\n",
    "        super(Transformer, self).__init__()\n",
    "        self.d_model = d_model\n",
    "        \n",
    "        self.embedAndPosEncoderLayer = EmbeddingAndPosEncoder(vocab_size,d_model)\n",
    "        self.enc_layers = [Encoder(d_model, num_heads, dff, rate) for _ in range(num_layers)]\n",
    "        self.globalPooling= tf.keras.layers.GlobalAveragePooling1D()\n",
    "        self.dropout1 = tf.keras.layers.Dropout(rate)\n",
    "        self.dense = tf.keras.layers.Dense(final_hidden_units,activation=\"relu\")\n",
    "        self.dropout2 = tf.keras.layers.Dropout(rate)\n",
    "        self.final_layer = tf.keras.layers.Dense(num_classes,activation=\"softmax\")\n",
    "        \n",
    "\n",
    "    def call(self,inp,training):\n",
    "        attention_weights = {}\n",
    "        \n",
    "        x = self.embedAndPosEncoderLayer(inp)\n",
    "        \n",
    "        for (layer,encoderLayer) in enumerate(self.enc_layers):\n",
    "            x,attentionweight = encoderLayer(x,training)\n",
    "            attention_weights[layer]=attentionweight\n",
    "        \n",
    "        x = self.globalPooling(x)\n",
    "        x = self.dropout1(x,training)\n",
    "        x = self.dense(x)\n",
    "        x = self.dropout2(x,training)\n",
    "\n",
    "        final_output = self.final_layer(x)\n",
    "\n",
    "        return final_output,attention_weights"
   ]
  },
  {
   "cell_type": "code",
   "execution_count": 34,
   "metadata": {
    "colab": {},
    "colab_type": "code",
    "id": "DJsrHBXEZM7S"
   },
   "outputs": [],
   "source": [
    "sample_transformer = Transformer(vocab_size=2000,d_model=512,num_layers=3,num_heads=8,dff=1024,rate=0.1,final_hidden_units=64,num_classes=2)"
   ]
  },
  {
   "cell_type": "code",
   "execution_count": 35,
   "metadata": {
    "colab": {},
    "colab_type": "code",
    "id": "ymjiTk6rZM7Y"
   },
   "outputs": [],
   "source": [
    "sample_output,sample_attentionWeight = sample_transformer(tf.random.uniform((64, 62)),True)"
   ]
  },
  {
   "cell_type": "code",
   "execution_count": 36,
   "metadata": {
    "colab": {
     "base_uri": "https://localhost:8080/",
     "height": 35
    },
    "colab_type": "code",
    "id": "6nJU1eLHZM7e",
    "outputId": "40105001-31c1-4f85-b3a3-6a18b51a2da6"
   },
   "outputs": [
    {
     "data": {
      "text/plain": [
       "TensorShape([64, 2])"
      ]
     },
     "execution_count": 36,
     "metadata": {},
     "output_type": "execute_result"
    }
   ],
   "source": [
    "sample_output.shape"
   ]
  },
  {
   "cell_type": "markdown",
   "metadata": {
    "colab_type": "text",
    "id": "JTfn90EhbfdB"
   },
   "source": [
    "#### (7) hyperparameters"
   ]
  },
  {
   "cell_type": "code",
   "execution_count": 37,
   "metadata": {
    "colab": {},
    "colab_type": "code",
    "id": "Wq9maWKGbfdI"
   },
   "outputs": [],
   "source": [
    "num_layers = 2\n",
    "d_model = 128\n",
    "final_hidden_units = 64\n",
    "dff = 512\n",
    "num_heads = 8\n",
    "vocab_size = vocab_size\n",
    "dropout_rate = 0.1\n",
    "num_classes = 2"
   ]
  },
  {
   "cell_type": "code",
   "execution_count": 38,
   "metadata": {
    "colab": {},
    "colab_type": "code",
    "id": "GdkgYboQZM7l"
   },
   "outputs": [],
   "source": [
    "text_classifer = Transformer(vocab_size=vocab_size,d_model=d_model,num_layers=num_layers,num_heads=num_heads,\n",
    "                             dff=dff,rate=dropout_rate,final_hidden_units=final_hidden_units,num_classes=num_classes)"
   ]
  },
  {
   "cell_type": "code",
   "execution_count": 39,
   "metadata": {
    "colab": {},
    "colab_type": "code",
    "id": "QCcPNY9XZM7o"
   },
   "outputs": [],
   "source": [
    "inputs = keras.layers.Input(shape=(maxlen,))"
   ]
  },
  {
   "cell_type": "code",
   "execution_count": 40,
   "metadata": {
    "colab": {},
    "colab_type": "code",
    "id": "wAD29t7iZM7w"
   },
   "outputs": [],
   "source": [
    "outputs,attention_weight = text_classifer(inputs,True)"
   ]
  },
  {
   "cell_type": "code",
   "execution_count": 41,
   "metadata": {
    "colab": {},
    "colab_type": "code",
    "id": "yYBXYxLzZM70"
   },
   "outputs": [],
   "source": [
    "model = keras.Model(inputs = inputs,outputs = outputs)"
   ]
  },
  {
   "cell_type": "code",
   "execution_count": 42,
   "metadata": {
    "colab": {},
    "colab_type": "code",
    "id": "Ei1yhOJKZM73"
   },
   "outputs": [],
   "source": [
    "# model.compile(\"adam\", \"sparse_categorical_crossentropy\", metrics=[\"accuracy\"])\n",
    "# history = model.fit(\n",
    "#     input_tensor_train.numpy(), output_tensor_train.numpy(), batch_size=32, epochs=10, validation_data=(input_tensor_val.numpy() , output_tensor_val.numpy())\n",
    "# )\n"
   ]
  },
  {
   "cell_type": "markdown",
   "metadata": {
    "colab_type": "text",
    "id": "0_pd6l6ZZM7_"
   },
   "source": [
    "#### (8) Optimizer"
   ]
  },
  {
   "cell_type": "code",
   "execution_count": 43,
   "metadata": {
    "colab": {},
    "colab_type": "code",
    "id": "sIyy2j39ZM8A"
   },
   "outputs": [],
   "source": [
    "class CustomSchedule(tf.keras.optimizers.schedules.LearningRateSchedule):\n",
    "    def __init__(self, d_model, warmup_steps=4000):\n",
    "        super(CustomSchedule, self).__init__()\n",
    "\n",
    "        self.d_model = d_model\n",
    "        self.d_model = tf.cast(self.d_model, tf.float32)\n",
    "\n",
    "        self.warmup_steps = warmup_steps\n",
    "\n",
    "    def __call__(self, step):\n",
    "        arg1 = tf.math.rsqrt(step)\n",
    "        arg2 = step * (self.warmup_steps ** -0.8)\n",
    "\n",
    "        return tf.math.rsqrt(self.d_model) * tf.math.minimum(arg1, arg2)"
   ]
  },
  {
   "cell_type": "code",
   "execution_count": 44,
   "metadata": {
    "colab": {
     "base_uri": "https://localhost:8080/",
     "height": 299
    },
    "colab_type": "code",
    "id": "c297xeBYZM8C",
    "outputId": "38014c93-085e-416f-b9e7-9d4a8638a037"
   },
   "outputs": [
    {
     "data": {
      "text/plain": [
       "[<matplotlib.lines.Line2D at 0x1dd62af3988>]"
      ]
     },
     "execution_count": 44,
     "metadata": {},
     "output_type": "execute_result"
    },
    {
     "data": {
      "text/plain": [
       "Text(0, 0.5, 'Learning Rate')"
      ]
     },
     "execution_count": 44,
     "metadata": {},
     "output_type": "execute_result"
    },
    {
     "data": {
      "text/plain": [
       "Text(0.5, 0, 'Train Step')"
      ]
     },
     "execution_count": 44,
     "metadata": {},
     "output_type": "execute_result"
    },
    {
     "data": {
      "image/png": "[encoded data removed]",
      "text/plain": [
       "<Figure size 432x288 with 1 Axes>"
      ]
     },
     "metadata": {
      "needs_background": "light"
     },
     "output_type": "display_data"
    }
   ],
   "source": [
    "temp_learning_rate_schedule = CustomSchedule(d_model)\n",
    "\n",
    "plt.plot(temp_learning_rate_schedule(tf.range(400, dtype=tf.float32)))\n",
    "plt.ylabel(\"Learning Rate\")\n",
    "plt.xlabel(\"Train Step\")"
   ]
  },
  {
   "cell_type": "code",
   "execution_count": 45,
   "metadata": {
    "colab": {},
    "colab_type": "code",
    "id": "EvFADBMLZM8G"
   },
   "outputs": [],
   "source": [
    "learning_rate = CustomSchedule(d_model)"
   ]
  },
  {
   "cell_type": "code",
   "execution_count": 46,
   "metadata": {
    "colab": {
     "base_uri": "https://localhost:8080/",
     "height": 35
    },
    "colab_type": "code",
    "id": "MgniDxuXZM8I",
    "outputId": "5e38ce39-961a-4539-b679-d8fec34ea991"
   },
   "outputs": [
    {
     "data": {
      "text/plain": [
       "<__main__.CustomSchedule at 0x1dd67009808>"
      ]
     },
     "execution_count": 46,
     "metadata": {},
     "output_type": "execute_result"
    }
   ],
   "source": [
    "learning_rate"
   ]
  },
  {
   "cell_type": "code",
   "execution_count": 47,
   "metadata": {
    "colab": {},
    "colab_type": "code",
    "id": "jPB0ExLCZM8P"
   },
   "outputs": [],
   "source": [
    "optimizer = tf.keras.optimizers.Adam(learning_rate, beta_1=0.9, beta_2=0.98, \n",
    "                                     epsilon=1e-9)"
   ]
  },
  {
   "cell_type": "markdown",
   "metadata": {
    "colab_type": "text",
    "id": "6_B_AMDOZM8S"
   },
   "source": [
    "#### (9) Loss and metrics¶"
   ]
  },
  {
   "cell_type": "code",
   "execution_count": 48,
   "metadata": {
    "colab": {},
    "colab_type": "code",
    "id": "9IPqtuOIZM8T"
   },
   "outputs": [],
   "source": [
    "loss_function = tf.keras.losses.SparseCategoricalCrossentropy(\n",
    "    from_logits=False, reduction='auto')"
   ]
  },
  {
   "cell_type": "code",
   "execution_count": 49,
   "metadata": {
    "colab": {
     "base_uri": "https://localhost:8080/",
     "height": 35
    },
    "colab_type": "code",
    "id": "vSs9kq59ZM8d",
    "outputId": "e1ef54cd-0486-4f29-8b51-8eaac7540b76"
   },
   "outputs": [
    {
     "data": {
      "text/plain": [
       "TensorShape([64])"
      ]
     },
     "execution_count": 49,
     "metadata": {},
     "output_type": "execute_result"
    }
   ],
   "source": [
    "example_target_batch.shape"
   ]
  },
  {
   "cell_type": "code",
   "execution_count": 50,
   "metadata": {
    "colab": {
     "base_uri": "https://localhost:8080/",
     "height": 35
    },
    "colab_type": "code",
    "id": "3eX4dAe6ZM8g",
    "outputId": "2c73930d-23f4-4f4a-8b3e-cc355763f493"
   },
   "outputs": [
    {
     "data": {
      "text/plain": [
       "TensorShape([64, 2])"
      ]
     },
     "execution_count": 50,
     "metadata": {},
     "output_type": "execute_result"
    }
   ],
   "source": [
    "sample_output.shape"
   ]
  },
  {
   "cell_type": "code",
   "execution_count": 51,
   "metadata": {
    "colab": {
     "base_uri": "https://localhost:8080/",
     "height": 35
    },
    "colab_type": "code",
    "id": "8P8jrgnhZM8i",
    "outputId": "9beb2d6a-0a7b-403b-998d-109eadb3928e"
   },
   "outputs": [
    {
     "data": {
      "text/plain": [
       "<tf.Tensor: id=2929, shape=(), dtype=float32, numpy=0.6799522>"
      ]
     },
     "execution_count": 51,
     "metadata": {},
     "output_type": "execute_result"
    }
   ],
   "source": [
    "loss_function(example_target_batch,sample_output)"
   ]
  },
  {
   "cell_type": "code",
   "execution_count": 52,
   "metadata": {
    "colab": {},
    "colab_type": "code",
    "id": "nDhaMAnqZM8l"
   },
   "outputs": [],
   "source": [
    "train_loss = tf.keras.metrics.Mean(name='train_loss')\n",
    "train_accuracy = tf.keras.metrics.SparseCategoricalAccuracy(\n",
    "    name='train_accuracy')"
   ]
  },
  {
   "cell_type": "code",
   "execution_count": 53,
   "metadata": {
    "colab": {},
    "colab_type": "code",
    "id": "im2-rmYkZM8o"
   },
   "outputs": [],
   "source": [
    "val_loss = tf.keras.metrics.Mean(name='val_loss')\n",
    "val_accuracy = tf.keras.metrics.SparseCategoricalAccuracy(\n",
    "    name='val_accuracy')"
   ]
  },
  {
   "cell_type": "markdown",
   "metadata": {
    "colab_type": "text",
    "id": "99xgWk51ZM8v"
   },
   "source": [
    "#### (10) Training"
   ]
  },
  {
   "cell_type": "code",
   "execution_count": 54,
   "metadata": {
    "colab": {
     "base_uri": "https://localhost:8080/",
     "height": 35
    },
    "colab_type": "code",
    "id": "qDLJTWjRZM8v",
    "outputId": "e4bd0df1-e07c-4724-da7d-db62119052ed"
   },
   "outputs": [
    {
     "data": {
      "text/plain": [
       "<tensorflow.python.training.tracking.util.CheckpointLoadStatus at 0x1dd681c5dc8>"
      ]
     },
     "execution_count": 54,
     "metadata": {},
     "output_type": "execute_result"
    },
    {
     "name": "stdout",
     "output_type": "stream",
     "text": [
      "Latest checkpoint restored!!\n"
     ]
    }
   ],
   "source": [
    "checkpoint_path = \"./checkpoints/train\"\n",
    "\n",
    "ckpt = tf.train.Checkpoint(text_classifer=text_classifer,\n",
    "                           optimizer=optimizer)\n",
    "\n",
    "ckpt_manager = tf.train.CheckpointManager(ckpt, checkpoint_path, max_to_keep=5)\n",
    "\n",
    "# 如果检查点存在，则恢复最新的检查点。\n",
    "if ckpt_manager.latest_checkpoint:\n",
    "    ckpt.restore(ckpt_manager.latest_checkpoint)\n",
    "    print ('Latest checkpoint restored!!')"
   ]
  },
  {
   "cell_type": "code",
   "execution_count": 55,
   "metadata": {
    "colab": {},
    "colab_type": "code",
    "id": "ZR9n5NOZZM8z"
   },
   "outputs": [],
   "source": [
    "EPOCHS = 2"
   ]
  },
  {
   "cell_type": "code",
   "execution_count": 56,
   "metadata": {
    "colab": {},
    "colab_type": "code",
    "id": "SAV9KBwIZM83"
   },
   "outputs": [],
   "source": [
    "training = True "
   ]
  },
  {
   "cell_type": "code",
   "execution_count": 57,
   "metadata": {
    "colab": {
     "base_uri": "https://localhost:8080/",
     "height": 161
    },
    "colab_type": "code",
    "id": "q5hOrls1ZM86",
    "outputId": "6993a431-50ea-4251-cc44-f224f1d50e80"
   },
   "outputs": [
    {
     "data": {
      "text/plain": [
       "<tf.Tensor: id=20, shape=(64, 200), dtype=int32, numpy=\n",
       "array([[    1,     7,    32, ...,     0,     0,     0],\n",
       "       [    1,    54,    13, ...,     0,     0,     0],\n",
       "       [    1,   767, 18338, ...,     0,     0,     0],\n",
       "       ...,\n",
       "       [    1,    13,   244, ...,     0,     0,     0],\n",
       "       [    1,     4,   116, ...,     0,     0,     0],\n",
       "       [    1,    61,  1633, ...,     0,     0,     0]])>"
      ]
     },
     "execution_count": 57,
     "metadata": {},
     "output_type": "execute_result"
    }
   ],
   "source": [
    "example_input_batch"
   ]
  },
  {
   "cell_type": "code",
   "execution_count": 58,
   "metadata": {
    "colab": {},
    "colab_type": "code",
    "id": "uB5OI3CbZM88"
   },
   "outputs": [],
   "source": [
    "testing = False"
   ]
  },
  {
   "cell_type": "code",
   "execution_count": 59,
   "metadata": {
    "colab": {
     "base_uri": "https://localhost:8080/",
     "height": 161
    },
    "colab_type": "code",
    "id": "sX5MWxjRZM8-",
    "outputId": "a90dab43-b4fb-43bb-8bc0-c90497190fd1"
   },
   "outputs": [
    {
     "data": {
      "text/plain": [
       "<tf.Tensor: id=3743, shape=(64, 200), dtype=int32, numpy=\n",
       "array([[   1,    4, 2026, ...,    0,    0,    0],\n",
       "       [   1,   13, 2488, ...,    0,    0,    0],\n",
       "       [   1,    4,   65, ...,    0,    0,    0],\n",
       "       ...,\n",
       "       [   1,   51,   70, ...,    0,    0,    0],\n",
       "       [   1,   39,    4, ...,    0,    0,    0],\n",
       "       [   1,  112,    6, ...,    0,    0,    0]])>"
      ]
     },
     "execution_count": 59,
     "metadata": {},
     "output_type": "execute_result"
    }
   ],
   "source": [
    "input_tensor_val[:64,]"
   ]
  },
  {
   "cell_type": "code",
   "execution_count": 86,
   "metadata": {
    "colab": {},
    "colab_type": "code",
    "id": "nXi7wSnZZM9A"
   },
   "outputs": [],
   "source": [
    "predictions_val, _ = text_classifer(input_tensor_val[:64,],testing)"
   ]
  },
  {
   "cell_type": "code",
   "execution_count": 61,
   "metadata": {
    "colab": {},
    "colab_type": "code",
    "id": "R9-FwWTaZM9C"
   },
   "outputs": [],
   "source": [
    "# train_step_signature = [\n",
    "#     tf.TensorSpec(shape=(BATCH_SIZE, None), dtype=tf.int32),\n",
    "#     tf.TensorSpec(shape=(BATCH_SIZE, None), dtype=tf.int32),\n",
    "#     tf.TensorSpec(shape=(BATCH_SIZE, None), dtype=tf.int32),\n",
    "#     tf.TensorSpec(shape=(BATCH_SIZE, None), dtype=tf.int32),\n",
    "# ]\n",
    "\n",
    "@tf.function\n",
    "def train_step(inp, tar):\n",
    "    with tf.GradientTape() as tape:\n",
    "        predictions, _ = text_classifer(inp,True)\n",
    "        loss = loss_function(tar, predictions)\n",
    "        \n",
    "    gradients = tape.gradient(loss, text_classifer.trainable_variables)    \n",
    "    optimizer.apply_gradients(zip(gradients, text_classifer.trainable_variables))\n",
    "\n",
    "    train_loss(loss)\n",
    "    train_accuracy(tar, predictions)"
   ]
  },
  {
   "cell_type": "code",
   "execution_count": 62,
   "metadata": {
    "colab": {},
    "colab_type": "code",
    "id": "hrNaJqYDZM9E"
   },
   "outputs": [],
   "source": [
    "def val_step(inp_val,tar_val):\n",
    "    predictions_val, _ = text_classifer(inp_val,False)\n",
    "    loss_val = loss_function(tar_val, predictions_val)\n",
    "    \n",
    "    val_loss(loss_val)\n",
    "    val_accuracy(tar_val,predictions_val)\n",
    "    "
   ]
  },
  {
   "cell_type": "code",
   "execution_count": 63,
   "metadata": {
    "colab": {
     "base_uri": "https://localhost:8080/",
     "height": 161
    },
    "colab_type": "code",
    "id": "AWuLxBRudC_W",
    "outputId": "b708b29a-71e8-4d18-85fb-c2c918811fc6"
   },
   "outputs": [
    {
     "data": {
      "text/plain": [
       "<tf.Tensor: id=2, shape=(3913, 200), dtype=int32, numpy=\n",
       "array([[   1,    4, 2026, ...,    0,    0,    0],\n",
       "       [   1,   13, 2488, ...,    0,    0,    0],\n",
       "       [   1,    4,   65, ...,    0,    0,    0],\n",
       "       ...,\n",
       "       [   1,   13, 1408, ...,    0,    0,    0],\n",
       "       [   1,   11,  119, ...,    0,    0,    0],\n",
       "       [   1,    6,   52, ...,    0,    0,    0]])>"
      ]
     },
     "execution_count": 63,
     "metadata": {},
     "output_type": "execute_result"
    }
   ],
   "source": [
    "input_tensor_val"
   ]
  },
  {
   "cell_type": "code",
   "execution_count": 64,
   "metadata": {
    "colab": {
     "base_uri": "https://localhost:8080/",
     "height": 35
    },
    "colab_type": "code",
    "id": "HFkiJ4rSdDpb",
    "outputId": "6fbaa178-0499-43db-802a-7d11b154c240"
   },
   "outputs": [
    {
     "data": {
      "text/plain": [
       "<tf.Tensor: id=3, shape=(3913,), dtype=float32, numpy=array([0., 0., 1., ..., 0., 0., 0.], dtype=float32)>"
      ]
     },
     "execution_count": 64,
     "metadata": {},
     "output_type": "execute_result"
    }
   ],
   "source": [
    "output_tensor_val"
   ]
  },
  {
   "cell_type": "code",
   "execution_count": 65,
   "metadata": {
    "colab": {},
    "colab_type": "code",
    "id": "C1MTFAigZM9H"
   },
   "outputs": [],
   "source": [
    "val_dataset = tf.data.Dataset.from_tensor_slices((input_tensor_val, output_tensor_val)).shuffle(len(input_tensor_val))\n",
    "val_dataset = val_dataset.batch(BATCH_SIZE, drop_remainder=True)"
   ]
  },
  {
   "cell_type": "code",
   "execution_count": 66,
   "metadata": {
    "colab": {
     "base_uri": "https://localhost:8080/",
     "height": 107
    },
    "colab_type": "code",
    "id": "fwzjJ54OcA6Q",
    "outputId": "7d3af8b5-7cb9-485b-be8c-f7939af7ba3f"
   },
   "outputs": [
    {
     "data": {
      "text/plain": [
       "<tf.Tensor: id=4114, shape=(64,), dtype=float32, numpy=\n",
       "array([1., 0., 1., 1., 0., 0., 1., 0., 0., 1., 1., 1., 1., 0., 1., 1., 1.,\n",
       "       0., 0., 0., 1., 0., 1., 1., 0., 1., 0., 0., 0., 0., 0., 1., 1., 1.,\n",
       "       0., 1., 1., 1., 0., 0., 1., 0., 1., 1., 0., 1., 0., 1., 1., 1., 0.,\n",
       "       1., 0., 0., 1., 1., 1., 1., 1., 1., 0., 0., 1., 0.], dtype=float32)>"
      ]
     },
     "execution_count": 66,
     "metadata": {},
     "output_type": "execute_result"
    }
   ],
   "source": [
    "next(iter(val_dataset))[1]"
   ]
  },
  {
   "cell_type": "code",
   "execution_count": 67,
   "metadata": {
    "colab": {
     "base_uri": "https://localhost:8080/",
     "height": 1000
    },
    "colab_type": "code",
    "id": "R8DFYM6nZM9I",
    "outputId": "ca2bece4-9c0f-4ff7-d4c5-51eb2e4356c8"
   },
   "outputs": [
    {
     "name": "stdout",
     "output_type": "stream",
     "text": [
      "Epoch 1 Batch 0 Traing Loss 0.0708 Traing Accuracy 0.9688\n",
      "Epoch 1 Batch 50 Traing Loss 0.0722 Traing Accuracy 0.9773\n",
      "Epoch 1 Batch 100 Traing Loss 0.0817 Traing Accuracy 0.9740\n",
      "Epoch 1 Batch 150 Traing Loss 0.0830 Traing Accuracy 0.9729\n",
      "Epoch 1 Batch 200 Traing Loss 0.0831 Traing Accuracy 0.9729\n",
      "Epoch 1 Batch 250 Traing Loss 0.0895 Traing Accuracy 0.9699\n",
      "Epoch 1 Batch 300 Traing Loss 0.0912 Traing Accuracy 0.9686\n",
      "Epoch 1 Batch 350 Traing Loss 0.0938 Traing Accuracy 0.9681\n",
      "Epoch 1 Training Loss 0.0950 Training Accuracy 0.9675 Val Loss 0.4027 Val Accuracy 0.8596\n",
      "Time taken for 1 epoch: 300.8245689868927 secs\n",
      "\n",
      "Epoch 2 Batch 0 Traing Loss 0.0281 Traing Accuracy 1.0000\n",
      "Epoch 2 Batch 50 Traing Loss 0.0610 Traing Accuracy 0.9816\n",
      "Epoch 2 Batch 100 Traing Loss 0.0572 Traing Accuracy 0.9821\n",
      "Epoch 2 Batch 150 Traing Loss 0.0594 Traing Accuracy 0.9811\n",
      "Epoch 2 Batch 200 Traing Loss 0.0618 Traing Accuracy 0.9799\n",
      "Epoch 2 Batch 250 Traing Loss 0.0627 Traing Accuracy 0.9795\n",
      "Epoch 2 Batch 300 Traing Loss 0.0650 Traing Accuracy 0.9789\n",
      "Epoch 2 Batch 350 Traing Loss 0.0684 Traing Accuracy 0.9777\n",
      "Epoch 2 Training Loss 0.0729 Training Accuracy 0.9764 Val Loss 0.5192 Val Accuracy 0.8461\n",
      "Time taken for 1 epoch: 364.31328678131104 secs\n",
      "\n"
     ]
    }
   ],
   "source": [
    "for epoch in range(EPOCHS):\n",
    "    start = time.time()\n",
    "    train_loss.reset_states()\n",
    "    train_accuracy.reset_states()\n",
    "\n",
    "    val_loss.reset_states()\n",
    "    val_accuracy.reset_states()\n",
    "\n",
    "\n",
    "    for (batch, (inp, tar)) in enumerate(dataset):\n",
    "        \n",
    "        train_step(inp, tar)\n",
    "        \n",
    "        if batch % 50 == 0:\n",
    "            print ('Epoch {} Batch {} Traing Loss {:.4f} Traing Accuracy {:.4f}'.format(\n",
    "                epoch + 1, batch, train_loss.result(), train_accuracy.result(), ))\n",
    "\n",
    "\n",
    "    for (val_inp,val_tar) in val_dataset:\n",
    "        val_step(val_inp,val_tar)\n",
    "    \n",
    "\n",
    "    if (epoch + 1) % 2 == 0:\n",
    "        ckpt_save_path = ckpt_manager.save()\n",
    "        print ('Saving checkpoint for epoch {} at {}'.format(epoch+1,ckpt_save_path))\n",
    "\n",
    "    print ('Epoch {} Training Loss {:.4f} Training Accuracy {:.4f} Val Loss {:.4f} Val Accuracy {:.4f}'.format(epoch + 1, \n",
    "                                                train_loss.result(), \n",
    "                                                train_accuracy.result(),\n",
    "                                                val_loss.result(),\n",
    "                                                val_accuracy.result()))\n",
    "\n",
    "    print ('Time taken for 1 epoch: {} secs\\n'.format(time.time() - start))"
   ]
  },
  {
   "cell_type": "code",
   "execution_count": 146,
   "metadata": {
    "colab": {},
    "colab_type": "code",
    "id": "0-uwbkQTaZta"
   },
   "outputs": [],
   "source": [
    "val_inp,val_tar = next(iter(val_dataset))"
   ]
  },
  {
   "cell_type": "code",
   "execution_count": 147,
   "metadata": {},
   "outputs": [],
   "source": [
    "val_inp = val_inp[:1,]"
   ]
  },
  {
   "cell_type": "code",
   "execution_count": 148,
   "metadata": {},
   "outputs": [],
   "source": [
    "prediction,attention_wights = text_classifer(val_inp,False)"
   ]
  },
  {
   "cell_type": "code",
   "execution_count": 149,
   "metadata": {},
   "outputs": [],
   "source": [
    "sentence = [index_word[index] for index in val_inp.numpy().flatten() if index!=0]"
   ]
  },
  {
   "cell_type": "code",
   "execution_count": 150,
   "metadata": {},
   "outputs": [],
   "source": [
    "attention = tf.squeeze(attention_wights[1], axis=0)"
   ]
  },
  {
   "cell_type": "code",
   "execution_count": 151,
   "metadata": {},
   "outputs": [],
   "source": [
    "def plot_attention_weights():\n",
    "    fig = plt.figure(figsize=(16, 8))\n",
    "    for head in range(attention.shape[0]):\n",
    "        ax = fig.add_subplot(2, 4, head+1)\n",
    "\n",
    "        # 画出注意力权重\n",
    "        ax.matshow(attention[head][:-1, :], cmap='viridis')\n",
    "\n",
    "        fontdict = {'fontsize': 10}\n",
    "\n",
    "        ax.set_xticks(range(len(sentence)))\n",
    "        ax.set_yticks(range(len(sentence)))\n",
    "\n",
    "        ax.set_ylim(len(sentence)-1.5, -0.5)\n",
    "\n",
    "        ax.set_xticklabels(sentence,fontdict=fontdict, rotation=90)\n",
    "\n",
    "        ax.set_yticklabels(sentence,fontdict=fontdict)\n",
    "\n",
    "        ax.set_xlabel('Head {}'.format(head+1))\n",
    "\n",
    "    plt.tight_layout()\n",
    "    plt.show()"
   ]
  },
  {
   "cell_type": "code",
   "execution_count": 152,
   "metadata": {},
   "outputs": [
    {
     "data": {
      "image/png": "[encoded data removed]",
      "text/plain": [
       "<Figure size 1152x576 with 8 Axes>"
      ]
     },
     "metadata": {
      "needs_background": "light"
     },
     "output_type": "display_data"
    }
   ],
   "source": [
    "plot_attention_weights()"
   ]
  },
  {
   "cell_type": "code",
   "execution_count": null,
   "metadata": {},
   "outputs": [],
   "source": []
  }
 ],
 "metadata": {
  "accelerator": "GPU",
  "colab": {
   "collapsed_sections": [
    "rk9RGI3ebfa3",
    "xVixu6X3bfcQ"
   ],
   "name": "Text Classification Based on Transformer (CustomSchedule).ipynb",
   "provenance": []
  },
  "kernelspec": {
   "display_name": "Python 3",
   "language": "python",
   "name": "python3"
  },
  "language_info": {
   "codemirror_mode": {
    "name": "ipython",
    "version": 3
   },
   "file_extension": ".py",
   "mimetype": "text/x-python",
   "name": "python",
   "nbconvert_exporter": "python",
   "pygments_lexer": "ipython3",
   "version": "3.7.6"
  }
 },
 "nbformat": 4,
 "nbformat_minor": 1
}
